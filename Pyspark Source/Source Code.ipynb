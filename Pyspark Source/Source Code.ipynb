{
 "cells": [
  {
   "cell_type": "markdown",
   "metadata": {
    "application/vnd.databricks.v1+cell": {
     "cellMetadata": {},
     "inputWidgets": {},
     "nuid": "f450f3af-f5d6-420d-a8ee-94eaa91c9f97",
     "showTitle": false,
     "title": ""
    }
   },
   "source": [
    "Loading the Data into Spark DataFrames"
   ]
  },
  {
   "cell_type": "code",
   "execution_count": 0,
   "metadata": {
    "application/vnd.databricks.v1+cell": {
     "cellMetadata": {
      "byteLimit": 2048000,
      "rowLimit": 10000
     },
     "inputWidgets": {},
     "nuid": "939ed001-a974-47e5-8bc9-fb761f027ba0",
     "showTitle": false,
     "title": ""
    }
   },
   "outputs": [
    {
     "output_type": "stream",
     "name": "stdout",
     "output_type": "stream",
     "text": [
      "+-----------------+----------+------------+----------+--------+----------------+----------------+----------+\n|Claim_Or_Rejected|    SUB_ID|claim_amount|claim_date|claim_id|      claim_type|    disease_name|patient_id|\n+-----------------+----------+------------+----------+--------+----------------+----------------+----------+\n|                N| SUBID1000|       79874|1949-03-14|       0| claims of value|    Galactosemia|    187158|\n|              NaN|SUBID10001|      151142|1970-03-16|       1|claims of policy|  Bladder cancer|    112766|\n|              NaN|SUBID10002|       59924|2008-02-03|       2| claims of value|   Kidney cancer|    199252|\n|              NaN|SUBID10003|      143120|1995-02-08|       3|  claims of fact|         Suicide|    133424|\n|                Y|SUBID10004|      168634|1967-05-23|       4| claims of value|    Food allergy|    172579|\n|              NaN|SUBID10005|       64840|1991-10-04|       5|claims of policy|        Whiplash|    171320|\n|                N| SUBID1006|       26800|1991-03-26|       6|  claims of fact|      Sunbathing|    107794|\n|              NaN|SUBID10007|      177186|1946-09-05|       7| claims of value|Drug consumption|    130339|\n|                N|SUBID10008|      141123|1966-06-20|       8|  claims of fact|          Dengue|    110377|\n|                N|SUBID10009|       88540|1945-12-29|       9| claims of value|    Head banging|    149367|\n|                N| SUBID1010|       29150|1999-01-25|      10| claims of value| Fanconi anaemia|    156168|\n|                Y|SUBID10011|       40897|1975-02-08|      11| claims of value|   Breast cancer|    114241|\n|              NaN|SUBID10012|       75983|1985-02-12|      12| claims of value|         Anthrax|    146382|\n|              NaN|SUBID10013|      192340|2014-07-30|      13|  claims of fact| Cystic fibrosis|    132748|\n|                N|SUBID10014|      118628|2003-12-18|      14| claims of value|    Galactosemia|    167340|\n|                Y|SUBID10015|      100224|1986-08-02|      15| claims of value|          Dengue|    135184|\n|                N|SUBID10016|       42860|1955-01-20|      16| claims of value|        Smallpox|    179662|\n|                N|SUBID10017|      161786|2017-06-01|      17|claims of policy|  Pollen allergy|    184479|\n|              NaN|SUBID10018|       66129|1956-01-04|      18|  claims of fact|   Breast cancer|    156988|\n|              NaN|SUBID10019|      182552|1948-07-26|      19| claims of value|        Glaucoma|    132870|\n+-----------------+----------+------------+----------+--------+----------------+----------------+----------+\nonly showing top 20 rows\n\n+--------+-----------+--------------------+\n|SubGrpID| Disease_ID|        Disease_name|\n+--------+-----------+--------------------+\n|    S101|     110001|            Beriberi|\n|    S101|     110002|              Scurvy|\n|    S101|     110003|              Goitre|\n|    S101|     110004|        Osteoporosis|\n|    S101|     110005|             Rickets|\n|    S101|     110006|             Anaemia|\n|    S102|     110007|           Fractures|\n|    S102|     110008|        Heart Attack|\n|    S102|     110009|               Burns|\n|    S102|     110010|             Choking|\n|    S102|     110011|              Stroke|\n|    S102|     110012|      Food Poisoning|\n|    S103|     110013|              Asthma|\n|    S103|     110014|            Glaucoma|\n|    S103|     110015|            Diabetes|\n|    S103|     110016|             Amnesia|\n|    S103|     110017|         Parasomnias|\n|    S103|     110018|Neurocognitive di...|\n|    S104|     110019|             Vertigo|\n|    S104|     110020|          Lymphedema|\n+--------+-----------+--------------------+\nonly showing top 20 rows\n\n+-------+---------------+-------+------+--------------------+--------+---------+----+\n|Country|premium_written|zipcode|Grp_Id|            Grp_Name|Grp_Type|     city|year|\n+-------+---------------+-------+------+--------------------+--------+---------+----+\n|  India|          72000| 482018|GRP101|Life Insurance Co...|   Govt.|   Mumbai|1956|\n|  India|          45000| 482049|GRP102|HDFC Standard Lif...| Private|   Mumbai|2000|\n|  India|          64000| 482030|GRP103|Max Life Insuranc...| Private|    Delhi|2000|\n|  India|          59000| 482028|GRP104|ICICI Prudential ...| Private|   Mumbai|2000|\n|  India|          37000| 482014|GRP105|Kotak Mahindra Li...| Private|   Mumbai|2001|\n|  India|          89000| 482011|GRP106|Aditya Birla Sun ...| Private|   Mumbai|2000|\n|  India|          70000| 482006|GRP107|TATA AIG Life Ins...| Private|   Mumbai|2001|\n|  India|          52000| 482034|GRP108|SBI Life Insuranc...| Private|   Mumbai|2001|\n|  India|          78000| 482032|GRP109|Exide Life Insura...| Private|Bangalore|2001|\n|  India|          48000| 482015|GRP110|Bajaj Allianz Lif...| Private|     Pune|2001|\n|  India|          57000| 482011|GRP111|PNB MetLife India...| Private|   Mumbai|2001|\n|  India|          57000| 482022|GRP112|Reliance Nippon L...| Private|   Mumbai|2001|\n|  India|          64000| 482009|GRP113|Aviva Life Insura...| Private| Gurugram|2002|\n|  India|          33000| 482043|GRP114|Sahara India Life...| Private|  Lucknow|2004|\n|  India|          79000| 482036|GRP115|Shriram Life Insu...| Private|Hyderabad|2005|\n|  India|          32000| 482002|GRP116|Bharti AXA Life I...| Private|   Mumbai|2008|\n|  India|          59000| 482017|GRP117|Future Generali I...| Private|   Mumbai|2007|\n|  India|          97000| 482023|GRP118|IDBI Federal Life...| Private|   Mumbai|2008|\n|  India|          47000| 482046|GRP119|Canara HSBC Orien...| Private| Gurugram|2008|\n|  India|          50000| 482017|GRP120|Aegon Life Insura...| Private|   Mumbai|2008|\n+-------+---------------+-------+------+--------------------+--------+---------+----+\nonly showing top 20 rows\n\n+---------+------+\n|SubGrp_ID|Grp_Id|\n+---------+------+\n|     S101|GRP101|\n|     S101|GRP105|\n|     S102|GRP110|\n|     S102|GRP150|\n|     S102|GRP136|\n|     S103|GRP122|\n|     S103|GRP108|\n|     S103|GRP138|\n|     S103|GRP148|\n|     S104|GRP103|\n|     S104|GRP113|\n|     S104|GRP123|\n|     S104|GRP133|\n|     S104|GRP143|\n|     S105|GRP153|\n|     S105|GRP104|\n|     S105|GRP114|\n|     S105|GRP124|\n|     S106|GRP117|\n|     S106|GRP127|\n+---------+------+\nonly showing top 20 rows\n\n+-----------+--------------------+----------+-----------+-------+\n|Hospital_id|       Hospital_name|      city|      state|country|\n+-----------+--------------------+----------+-----------+-------+\n|      H1000|All India Institu...| New Delhi|        NaN|  India|\n|      H1001|Medanta The Medicity|   Gurgaon|    Haryana|  India|\n|      H1002|The Christian Med...|   Vellore| Tamil Nadu|  India|\n|      H1003|PGIMER - Postgrad...|Chandigarh|    Haryana|  India|\n|      H1004|Apollo Hospital -...|   Chennai| Tamil Nadu|  India|\n|      H1005|P. D. Hinduja Nat...|    Mumbai|Maharashtra|  India|\n|      H1006|Breach Candy Hosp...|    Mumbai|Maharashtra|  India|\n|      H1007|Fortis Flt. Lt. R...| New Delhi|        NaN|  India|\n|      H1008|King Edward Memor...|    Mumbai|Maharashtra|  India|\n|      H1009|Indraprastha Apol...|     Delhi|        NaN|  India|\n|      H1010|Lilavati Hospital...|    Mumbai|Maharashtra|  India|\n|      H1011|Sir Ganga Ram Hos...|     Delhi|        NaN|  India|\n|      H1012|Bombay Hospital &...|    Mumbai|Maharashtra|  India|\n|      H1013|Apollo Health Cit...| Hyderabad|  Telangana|  India|\n|      H1014|Fortis Hiranandan...|    Mumbai|Maharashtra|  India|\n|      H1015|Fortis Hospital M...|    Mumbai|Maharashtra|  India|\n|      H1016|Jaslok Hospital a...|    Mumbai|Maharashtra|  India|\n|      H1017|   Manipal Hospitals| Bengaluru|  Karnataka|  India|\n|      H1018|Yashoda Hospital ...| Hyderabad|  Telangana|  India|\n|      H1019|Apollo Hospitals ...| Bengaluru|  Karnataka|  India|\n+-----------+--------------------+----------+-----------+-------+\n\n+----------+------------+--------------+------------------+--------------+----------------+--------------------+-----------+\n|Patient_id|Patient_name|patient_gender|patient_birth_date| patient_phone|    disease_name|                city|hospital_id|\n+----------+------------+--------------+------------------+--------------+----------------+--------------------+-----------+\n|    187158|      Harbir|        Female|        1924-06-30|+91 0112009318|    Galactosemia|            Rourkela|      H1001|\n|    112766|    Brahmdev|        Female|        1948-12-20|+91 1727749552|  Bladder cancer|        Tiruvottiyur|      H1016|\n|    199252|     Ujjawal|          Male|        1980-04-16|+91 8547451606|   Kidney cancer|           Berhampur|      H1009|\n|    133424|     Ballari|        Female|        1969-09-25|+91 0106026841|         Suicide|        Bihar Sharif|      H1017|\n|    172579|     Devnath|        Female|        1946-05-01|+91 1868774631|    Food allergy|         Bidhannagar|      H1019|\n|    171320|       Atasi|          Male|        1967-10-02|+91 9747336855|        Whiplash|            Amravati|      H1013|\n|    107794|      Manish|          Male|        1967-06-06|+91 4354294043|      Sunbathing|              Panvel|      H1004|\n|    130339|       Aakar|        Female|        1925-03-05|+91 2777633911|Drug consumption|        Bihar Sharif|      H1000|\n|    110377|     Gurudas|          Male|        1945-05-06|+91 1232859381|          Dengue|           Kamarhati|      H1001|\n|    149367|        NULL|          Male|        1925-06-12|+91 1780763280|    Head banging|           Bangalore|      H1013|\n|    156168|        NULL|          Male|        1976-02-03|+91 5586075345| Fanconi anaemia|              Rajkot|      H1004|\n|    114241|        NULL|        Female|        1955-01-22|+91 4146391938|   Breast cancer|           Ghaziabad|      H1015|\n|    146382|  Dharmadaas|          Male|        1964-04-29|+91 6345482027|         Anthrax|Bhalswa Jahangir Pur|      H1019|\n|    132748|    Brahmvir|          Male|        1991-11-11|+91 7316972612| Cystic fibrosis|              Ambala|      H1018|\n|    167340|        NULL|        Female|        1981-01-25|+91 2960004518|    Galactosemia|Surendranagar Dud...|      H1003|\n|    135184|     Bhagvan|        Female|        1966-07-24|+91 0297693485|          Dengue|          Bhimavaram|      H1018|\n|    179662|   Amritkala|        Female|        1933-11-20|+91 0537157280|        Smallpox|              Meerut|      H1018|\n|    184479|      Bandhu|          Male|        1996-10-15|+91 0695289163|  Pollen allergy|           Chinsurah|      H1010|\n|    156988|  Bhagavaana|        Female|        1935-09-16|+91 6071745855|   Breast cancer|        Shahjahanpur|      H1012|\n|    132870|        NULL|        Female|        1924-11-09|+91 8906694405|        Glaucoma|            Jabalpur|      H1017|\n+----------+------------+--------------+------------------+--------------+----------------+--------------------+-----------+\nonly showing top 20 rows\n\n+---------+-------------------+---------------+\n|SubGrp_id|        SubGrp_Name|Monthly_Premium|\n+---------+-------------------+---------------+\n|     S101|Deficiency Diseases|           3000|\n|     S102|           Accident|           1000|\n|     S103|         Physiology|           2000|\n|     S104|            Therapy|           1500|\n|     S105|          Allergies|           2300|\n|     S106|     Self inflicted|           1200|\n|     S107|             Cancer|           3200|\n|     S108| Infectious disease|           1500|\n|     S109|         Hereditary|           2000|\n|     S110|              Viral|           1000|\n+---------+-------------------+---------------+\n\n+----------+----------+-----------+-----------------+----------+------+--------------+-------+--------------------+--------+---------+--------+----------+----------+\n|   sub _id|first_name|  last_name|           Street|Birth_date|Gender|         Phone|Country|                City|Zip Code|Subgrp_id|Elig_ind|  eff_date| term_date|\n+----------+----------+-----------+-----------------+----------+------+--------------+-------+--------------------+--------+---------+--------+----------+----------+\n|SUBID10000|    Harbir|Vishwakarma|       Baria Marg|1924-06-30|Female|+91 0112009318|  India|            Rourkela|  767058|     S107|       Y|1944-06-30|1954-01-14|\n|SUBID10001|  Brahmdev|     Sonkar|        Lala Marg|1948-12-20|Female|+91 1727749552|  India|        Tiruvottiyur|   34639|     S105|       Y|1968-12-20|1970-05-16|\n|SUBID10002|   Ujjawal|       Devi|      Mammen Zila|1980-04-16|  Male|+91 8547451606|  India|           Berhampur|  914455|     S106|       N|2000-04-16|2008-05-04|\n|SUBID10003|   Ballari|     Mishra|       Sahni Zila|1969-09-25|Female|+91 0106026841|  India|        Bihar Sharif|   91481|     S104|       N|1989-09-25|1995-06-05|\n|SUBID10004|   Devnath|  Srivastav|       Magar Zila|1946-05-01|Female|+91 1868774631|  India|         Bidhannagar|  531742|     S110|       N|1966-05-01|1970-12-09|\n|SUBID10005|     Atasi|       Seth|     Khatri Nagar|1967-10-02|  Male|+91 9747336855|  India|            Amravati|  229062|     S104|       Y|1987-10-02|1995-02-13|\n| SUBID1006|    Manish|     Maurya|Swaminathan Chowk|1967-06-06|  Male|+91 4354294043|  India|              Panvel|  438733|     S109|    NULL|1987-06-06|1995-03-21|\n|SUBID10007|     Aakar|      Yadav|            Swamy|1925-03-05|Female|+91 2777633911|  India|        Bihar Sharif|  535907|     S104|       N|1945-03-05|1946-11-07|\n|SUBID10008|   Gurudas|      Gupta|      Sarin Nagar|1945-05-06|  Male|+91 1232859381|  India|           Kamarhati|  933226|     S103|       Y|1965-05-06|1970-09-16|\n|SUBID10009|      NULL|      Gupta|    Thakur Circle|1925-06-12|  Male|+91 1780763280|  India|           Bangalore|  957469|     S105|       Y|1945-06-12|1953-08-30|\n| SUBID1010|      NULL|     Divedi|          Dhillon|1976-02-03|  Male|+91 5586075345|  India|              Rajkot|  911319|     S102|       Y|1996-02-03|2002-01-27|\n|SUBID10011|      NULL|Vishwakarma|      Rajagopalan|1955-01-22|Female|+91 4146391938|  India|           Ghaziabad|  337042|     S106|       N|1975-01-22|1978-11-02|\n|SUBID10012|Dharmadaas|     Tiwari|             Rama|1964-04-29|  Male|+91 6345482027|  India|Bhalswa Jahangir Pur|  430793|     S103|       N|1984-04-29|1988-02-07|\n|SUBID10013|  Brahmvir|        Rai|        Shah Path|1991-11-11|  Male|+91 7316972612|  India|              Ambala|  249898|     S106|       N|2011-11-11|2020-05-23|\n|SUBID10014|      NULL|  Srivastav|     Chandra Path|1981-01-25|Female|+91 2960004518|  India|Surendranagar Dud...|  111966|     S102|       N|2001-01-25|2005-07-13|\n|SUBID10015|   Bhagvan|  Srivastav|            Edwin|1966-07-24|Female|+91 0297693485|  India|          Bhimavaram|  436513|     S105|       Y|1986-07-24|1988-02-04|\n|SUBID10016| Amritkala|  Srivastav|        Guha Path|1933-11-20|Female|+91 0537157280|  India|              Meerut|  863467|     S106|       Y|1953-11-20|1955-07-29|\n|SUBID10017|    Bandhu|       Seth|        Varughese|1996-10-15|  Male|+91 0695289163|  India|           Chinsurah|  136713|     S108|       N|2016-10-15|2018-06-08|\n|SUBID10018|Bhagavaana|      Kumar|    Kulkarni Zila|1935-09-16|Female|+91 6071745855|  India|        Shahjahanpur|  597276|     S101|       N|1955-09-16|1958-05-31|\n|SUBID10019|      NULL|     Maurya|     Sharaf Nagar|1924-11-09|Female|+91 8906694405|  India|            Jabalpur|  958538|     S104|       N|1944-11-09|1951-10-14|\n+----------+----------+-----------+-----------------+----------+------+--------------+-------+--------------------+--------+---------+--------+----------+----------+\nonly showing top 20 rows\n\n"
     ]
    }
   ],
   "source": [
    "from pyspark.sql import SparkSession\n",
    "\n",
    "# Initialize Spark session\n",
    "spark = SparkSession.builder.appName(\"HealthCareDataAnalysis\").getOrCreate()\n",
    "\n",
    "# Load the data\n",
    "claims_df = spark.read.json(\"/Volumes/healthcaredatacleaningw/default/data/claims.json\")\n",
    "disease_df = spark.read.csv(\"/Volumes/healthcaredatacleaningw/default/data/disease.csv\", header=True, inferSchema=True)\n",
    "group_df = spark.read.csv(\"/Volumes/healthcaredatacleaningw/default/data/group.csv\", header=True, inferSchema=True)\n",
    "grpsubgrp_df = spark.read.csv(\"/Volumes/healthcaredatacleaningw/default/data/grpsubgrp.csv\", header=True, inferSchema=True)\n",
    "hospital_df = spark.read.csv(\"/Volumes/healthcaredatacleaningw/default/data/hospital.csv\", header=True, inferSchema=True)\n",
    "patient_records_df = spark.read.csv(\"/Volumes/healthcaredatacleaningw/default/data/Patient_records.csv\", header=True, inferSchema=True)\n",
    "subgroup_df = spark.read.csv(\"/Volumes/healthcaredatacleaningw/default/data/subgroup.csv\", header=True, inferSchema=True)\n",
    "subscriber_df = spark.read.csv(\"/Volumes/healthcaredatacleaningw/default/data/subscriber.csv\", header=True, inferSchema=True)\n",
    "\n",
    "# Show data\n",
    "claims_df.show()\n",
    "disease_df.show()\n",
    "group_df.show()\n",
    "grpsubgrp_df.show()\n",
    "hospital_df.show()\n",
    "patient_records_df.show()\n",
    "subgroup_df.show()\n",
    "subscriber_df.show()\n",
    "\n",
    "\n"
   ]
  },
  {
   "cell_type": "markdown",
   "metadata": {
    "application/vnd.databricks.v1+cell": {
     "cellMetadata": {},
     "inputWidgets": {},
     "nuid": "3061d4f5-5e4a-4b77-9911-92328aed6469",
     "showTitle": false,
     "title": ""
    }
   },
   "source": [
    "Check for Null Values"
   ]
  },
  {
   "cell_type": "code",
   "execution_count": 0,
   "metadata": {
    "application/vnd.databricks.v1+cell": {
     "cellMetadata": {
      "byteLimit": 2048000,
      "rowLimit": 10000
     },
     "inputWidgets": {},
     "nuid": "de588e2c-7eb8-49c2-81bc-717d356407cb",
     "showTitle": false,
     "title": ""
    }
   },
   "outputs": [
    {
     "output_type": "stream",
     "name": "stdout",
     "output_type": "stream",
     "text": [
      "+-----------------+------+------------+----------+--------+----------+------------+----------+\n|Claim_Or_Rejected|SUB_ID|claim_amount|claim_date|claim_id|claim_type|disease_name|patient_id|\n+-----------------+------+------------+----------+--------+----------+------------+----------+\n|                0|     0|           0|         0|       0|         0|           0|         0|\n+-----------------+------+------------+----------+--------+----------+------------+----------+\n\n+--------+-----------+------------+\n|SubGrpID| Disease_ID|Disease_name|\n+--------+-----------+------------+\n|       0|          0|           0|\n+--------+-----------+------------+\n\n+-------+---------------+-------+------+--------+--------+----+----+\n|Country|premium_written|zipcode|Grp_Id|Grp_Name|Grp_Type|city|year|\n+-------+---------------+-------+------+--------+--------+----+----+\n|      0|              0|      0|     0|       0|       0|   0|   0|\n+-------+---------------+-------+------+--------+--------+----+----+\n\n+---------+------+\n|SubGrp_ID|Grp_Id|\n+---------+------+\n|        0|     0|\n+---------+------+\n\n+-----------+-------------+----+-----+-------+\n|Hospital_id|Hospital_name|city|state|country|\n+-----------+-------------+----+-----+-------+\n|          0|            0|   0|    0|      0|\n+-----------+-------------+----+-----+-------+\n\n+----------+------------+--------------+------------------+-------------+------------+----+-----------+\n|Patient_id|Patient_name|patient_gender|patient_birth_date|patient_phone|disease_name|city|hospital_id|\n+----------+------------+--------------+------------------+-------------+------------+----+-----------+\n|         0|          17|             0|                 0|            2|           0|   0|          0|\n+----------+------------+--------------+------------------+-------------+------------+----+-----------+\n\n+---------+-----------+---------------+\n|SubGrp_id|SubGrp_Name|Monthly_Premium|\n+---------+-----------+---------------+\n|        0|          0|              0|\n+---------+-----------+---------------+\n\n+-------+----------+---------+------+----------+------+-----+-------+----+--------+---------+--------+--------+---------+\n|sub _id|first_name|last_name|Street|Birth_date|Gender|Phone|Country|City|Zip Code|Subgrp_id|Elig_ind|eff_date|term_date|\n+-------+----------+---------+------+----------+------+-----+-------+----+--------+---------+--------+--------+---------+\n|      0|        27|        0|     0|         0|     0|    3|      0|   0|       0|        2|       4|       0|        0|\n+-------+----------+---------+------+----------+------+-----+-------+----+--------+---------+--------+--------+---------+\n\n"
     ]
    }
   ],
   "source": [
    "from pyspark.sql.functions import col, count, when\n",
    "\n",
    "# Function to check for null values\n",
    "def check_nulls(df):\n",
    "    return df.select([count(when(col(c).isNull(), c)).alias(c) for c in df.columns]).show()\n",
    "\n",
    "# Check for null values\n",
    "check_nulls(claims_df)\n",
    "check_nulls(disease_df)\n",
    "check_nulls(group_df)\n",
    "check_nulls(grpsubgrp_df)\n",
    "check_nulls(hospital_df)\n",
    "check_nulls(patient_records_df)\n",
    "check_nulls(subgroup_df)\n",
    "check_nulls(subscriber_df)\n"
   ]
  },
  {
   "cell_type": "markdown",
   "metadata": {
    "application/vnd.databricks.v1+cell": {
     "cellMetadata": {},
     "inputWidgets": {},
     "nuid": "6e019372-7d69-45fe-9d9a-7a0c299f2db6",
     "showTitle": false,
     "title": ""
    }
   },
   "source": [
    "Replacing Null Values"
   ]
  },
  {
   "cell_type": "code",
   "execution_count": 0,
   "metadata": {
    "application/vnd.databricks.v1+cell": {
     "cellMetadata": {
      "byteLimit": 2048000,
      "rowLimit": 10000
     },
     "inputWidgets": {},
     "nuid": "fc37f956-b390-4a5f-b249-1656ca1dc056",
     "showTitle": false,
     "title": ""
    }
   },
   "outputs": [],
   "source": [
    "# Replace null values with \"NA\"\n",
    "claims_df = claims_df.fillna(\"NA\")\n",
    "disease_df = disease_df.fillna(\"NA\")\n",
    "group_df = group_df.fillna(\"NA\")\n",
    "grpsubgrp_df = grpsubgrp_df.fillna(\"NA\")\n",
    "hospital_df = hospital_df.fillna(\"NA\")\n",
    "patient_records_df = patient_records_df.fillna(\"NA\")\n",
    "subgroup_df = subgroup_df.fillna(\"NA\")\n",
    "subscriber_df = subscriber_df.fillna(\"NA\")\n"
   ]
  },
  {
   "cell_type": "markdown",
   "metadata": {
    "application/vnd.databricks.v1+cell": {
     "cellMetadata": {},
     "inputWidgets": {},
     "nuid": "8f7b0fbd-d8e1-4bd8-b405-34670777e5e2",
     "showTitle": false,
     "title": ""
    }
   },
   "source": [
    "Checking for Duplicates"
   ]
  },
  {
   "cell_type": "code",
   "execution_count": 0,
   "metadata": {
    "application/vnd.databricks.v1+cell": {
     "cellMetadata": {
      "byteLimit": 2048000,
      "rowLimit": 10000
     },
     "inputWidgets": {},
     "nuid": "ec37582f-a6cd-411d-9b57-f1851f77d118",
     "showTitle": false,
     "title": ""
    }
   },
   "outputs": [],
   "source": [
    "# Function to drop duplicates\n",
    "def drop_duplicates(df):\n",
    "    return df.dropDuplicates()\n",
    "\n",
    "# Dropping duplicates if any\n",
    "claims_df = drop_duplicates(claims_df)\n",
    "disease_df = drop_duplicates(disease_df)\n",
    "group_df = drop_duplicates(group_df)\n",
    "grpsubgrp_df = drop_duplicates(grpsubgrp_df)\n",
    "hospital_df = drop_duplicates(hospital_df)\n",
    "patient_records_df = drop_duplicates(patient_records_df)\n",
    "subgroup_df = drop_duplicates(subgroup_df)\n",
    "subscriber_df = drop_duplicates(subscriber_df)\n"
   ]
  },
  {
   "cell_type": "markdown",
   "metadata": {
    "application/vnd.databricks.v1+cell": {
     "cellMetadata": {},
     "inputWidgets": {},
     "nuid": "41655b56-551b-418b-b7d4-dc738fc30bd3",
     "showTitle": false,
     "title": ""
    }
   },
   "source": [
    "Save Cleaned Data"
   ]
  },
  {
   "cell_type": "code",
   "execution_count": 0,
   "metadata": {
    "application/vnd.databricks.v1+cell": {
     "cellMetadata": {
      "byteLimit": 2048000,
      "implicitDf": true,
      "rowLimit": 10000
     },
     "inputWidgets": {},
     "nuid": "991d9c97-25f0-4dce-9a2c-f696dfe7af3c",
     "showTitle": false,
     "title": ""
    }
   },
   "outputs": [],
   "source": [
    "# Save cleaned data as Parquet files\n",
    "claims_df.write.mode(\"overwrite\").parquet(\"/Volumes/healthcaredatacleaningw/default/cleaned_data/claims_cleaned.parquet\")\n",
    "disease_df.write.mode(\"overwrite\").parquet(\"/Volumes/healthcaredatacleaningw/default/cleaned_data/disease_cleaned.parquet\")\n",
    "group_df.write.mode(\"overwrite\").parquet(\"/Volumes/healthcaredatacleaningw/default/cleaned_data/group_cleaned.parquet\")\n",
    "grpsubgrp_df.write.mode(\"overwrite\").parquet(\"/Volumes/healthcaredatacleaningw/default/cleaned_data/grpsubgrp_cleaned.parquet\")\n",
    "hospital_df.write.mode(\"overwrite\").parquet(\"/Volumes/healthcaredatacleaningw/default/cleaned_data/hospital_cleaned.parquet\")\n",
    "patient_records_df.write.mode(\"overwrite\").parquet(\"/Volumes/healthcaredatacleaningw/default/cleaned_data/patient_records_cleaned.parquet\")\n",
    "subgroup_df.write.mode(\"overwrite\").parquet(\"/Volumes/healthcaredatacleaningw/default/cleaned_data/subgroup_cleaned.parquet\")\n",
    "subscriber_df.write.mode(\"overwrite\").parquet(\"/Volumes/healthcaredatacleaningw/default/cleaned_data/subscriber_cleaned.parquet\")\n",
    "\n"
   ]
  },
  {
   "cell_type": "markdown",
   "metadata": {
    "application/vnd.databricks.v1+cell": {
     "cellMetadata": {},
     "inputWidgets": {},
     "nuid": "3f784165-1098-4270-ab84-d4ac774fd820",
     "showTitle": false,
     "title": ""
    }
   },
   "source": [
    "Analysis Requirements: Load Cleaned Data"
   ]
  },
  {
   "cell_type": "code",
   "execution_count": 0,
   "metadata": {
    "application/vnd.databricks.v1+cell": {
     "cellMetadata": {
      "byteLimit": 2048000,
      "rowLimit": 10000
     },
     "inputWidgets": {},
     "nuid": "29a73c67-dc8d-44c2-8b27-ad4ba8005d7f",
     "showTitle": false,
     "title": ""
    }
   },
   "outputs": [],
   "source": [
    "# Load cleaned data\n",
    "claims_cleaned_df = spark.read.parquet(\"/Volumes/healthcaredatacleaningw/default/cleaned_data/claims_cleaned.parquet\")\n",
    "disease_cleaned_df = spark.read.parquet(\"/Volumes/healthcaredatacleaningw/default/cleaned_data/disease_cleaned.parquet\")\n",
    "group_cleaned_df = spark.read.parquet(\"/Volumes/healthcaredatacleaningw/default/cleaned_data/group_cleaned.parquet\")\n",
    "grpsubgrp_cleaned_df = spark.read.parquet(\"/Volumes/healthcaredatacleaningw/default/cleaned_data/grpsubgrp_cleaned.parquet\")\n",
    "hospital_cleaned_df = spark.read.parquet(\"/Volumes/healthcaredatacleaningw/default/cleaned_data/hospital_cleaned.parquet\")\n",
    "patient_records_cleaned_df = spark.read.parquet(\"/Volumes/healthcaredatacleaningw/default/cleaned_data/patient_records_cleaned.parquet\")\n",
    "subgroup_cleaned_df = spark.read.parquet(\"/Volumes/healthcaredatacleaningw/default/cleaned_data/subgroup_cleaned.parquet\")\n",
    "subscriber_cleaned_df = spark.read.parquet(\"/Volumes/healthcaredatacleaningw/default/cleaned_data/subscriber_cleaned.parquet\")\n"
   ]
  },
  {
   "cell_type": "markdown",
   "metadata": {
    "application/vnd.databricks.v1+cell": {
     "cellMetadata": {},
     "inputWidgets": {},
     "nuid": "c14eacb0-c73d-4a61-8164-df5614df235e",
     "showTitle": false,
     "title": ""
    }
   },
   "source": [
    "Perform Analysis: Identify diseases with maximum claims"
   ]
  },
  {
   "cell_type": "code",
   "execution_count": 0,
   "metadata": {
    "application/vnd.databricks.v1+cell": {
     "cellMetadata": {
      "byteLimit": 2048000,
      "rowLimit": 10000
     },
     "inputWidgets": {},
     "nuid": "b1dfb984-9853-4cbd-988d-9488c7700647",
     "showTitle": false,
     "title": ""
    }
   },
   "outputs": [
    {
     "output_type": "stream",
     "name": "stdout",
     "output_type": "stream",
     "text": [
      "Disease with maximum claims: Row(disease_name='Pet allergy', count=3)\n"
     ]
    },
    {
     "output_type": "display_data",
     "data": {
      "image/png": "[encoded data removed]",
      "text/plain": [
       "<Figure size 1200x600 with 1 Axes>"
      ]
     },
     "metadata": {},
     "output_type": "display_data"
    }
   ],
   "source": [
    "import matplotlib.pyplot as plt\n",
    "import pandas as pd\n",
    "import seaborn as sns\n",
    "\n",
    "# Calculate the top 10 diseases with the most claims\n",
    "top_diseases = claims_cleaned_df.groupBy(\"disease_name\").count().orderBy(\"count\", ascending=False).limit(10)\n",
    "print(\"Disease with maximum claims:\", max_claims_disease)\n",
    "\n",
    "top_diseases_pd = top_diseases.toPandas()\n",
    "\n",
    "# Plotting\n",
    "plt.figure(figsize=(12, 6))\n",
    "sns.barplot(x='count', y='disease_name', data=top_diseases_pd, palette='viridis')\n",
    "plt.title('Top 10 Diseases with the Most Claims')\n",
    "plt.xlabel('Number of Claims')\n",
    "plt.ylabel('Disease Name')\n",
    "plt.show()"
   ]
  },
  {
   "cell_type": "markdown",
   "metadata": {
    "application/vnd.databricks.v1+cell": {
     "cellMetadata": {},
     "inputWidgets": {},
     "nuid": "f955f973-6163-4443-9f8d-a91e1047212f",
     "showTitle": false,
     "title": ""
    }
   },
   "source": [
    "Subscribers under 30 with subgroup subscriptions"
   ]
  },
  {
   "cell_type": "code",
   "execution_count": 0,
   "metadata": {
    "application/vnd.databricks.v1+cell": {
     "cellMetadata": {
      "byteLimit": 2048000,
      "rowLimit": 10000
     },
     "inputWidgets": {},
     "nuid": "b08796fa-1475-40fa-8535-8e3b40b8cc60",
     "showTitle": false,
     "title": ""
    }
   },
   "outputs": [
    {
     "output_type": "display_data",
     "data": {
      "text/html": [
       "<style scoped>\n",
       "  .table-result-container {\n",
       "    max-height: 300px;\n",
       "    overflow: auto;\n",
       "  }\n",
       "  table, th, td {\n",
       "    border: 1px solid black;\n",
       "    border-collapse: collapse;\n",
       "  }\n",
       "  th, td {\n",
       "    padding: 5px;\n",
       "  }\n",
       "  th {\n",
       "    text-align: left;\n",
       "  }\n",
       "</style><div class='table-result-container'><table class='table-result'><thead style='background-color: white'><tr><th>sub _id</th><th>first_name</th><th>last_name</th><th>Street</th><th>Birth_date</th><th>Gender</th><th>Phone</th><th>Country</th><th>City</th><th>Zip Code</th><th>Subgrp_id</th><th>Elig_ind</th><th>eff_date</th><th>term_date</th></tr></thead><tbody><tr><td>SUBID10013</td><td>Brahmvir</td><td>Rai</td><td>Shah Path</td><td>1991-11-11</td><td>Male</td><td>+91 7316972612</td><td>India</td><td>Ambala</td><td>249898</td><td>S106</td><td>N</td><td>2011-11-11</td><td>2020-05-23</td></tr><tr><td>SUBID10046</td><td>Aayushmaan</td><td>Maurya</td><td>Johal Nagar</td><td>1983-11-14</td><td>Female</td><td>+91 4464709769</td><td>India</td><td>Mehsana</td><td>987281</td><td>S104</td><td>Y</td><td>2003-11-14</td><td>2012-10-22</td></tr><tr><td>SUBID10049</td><td>Paridhi</td><td>Yadav</td><td>Sant Path</td><td>1959-03-27</td><td>Female</td><td>+91 2139280879</td><td>India</td><td>Jabalpur</td><td>883754</td><td>NA</td><td>N</td><td>1979-03-27</td><td>1985-06-01</td></tr><tr><td>SUBID10012</td><td>Dharmadaas</td><td>Tiwari</td><td>Rama</td><td>1964-04-29</td><td>Male</td><td>+91 6345482027</td><td>India</td><td>Bhalswa Jahangir Pur</td><td>430793</td><td>S103</td><td>N</td><td>1984-04-29</td><td>1988-02-07</td></tr><tr><td>SUBID1065</td><td>Dipesh</td><td>Mishra</td><td>Char Path</td><td>1949-04-01</td><td>Female</td><td>+91 5851958964</td><td>India</td><td>Kochi</td><td>31269</td><td>S103</td><td>Y</td><td>1969-04-01</td><td>1970-06-02</td></tr><tr><td>SUBID10011</td><td>NA</td><td>Vishwakarma</td><td>Rajagopalan</td><td>1955-01-22</td><td>Female</td><td>+91 4146391938</td><td>India</td><td>Ghaziabad</td><td>337042</td><td>S106</td><td>N</td><td>1975-01-22</td><td>1978-11-02</td></tr><tr><td>SUBID10051</td><td>NA</td><td>Rajput</td><td>Chauhan Chowk</td><td>1946-10-17</td><td>Male</td><td>+91 9887324437</td><td>India</td><td>Baranagar</td><td>765234</td><td>S103</td><td>Y</td><td>1966-10-17</td><td>1969-06-26</td></tr><tr><td>SUBID1041</td><td>NA</td><td>Rajput</td><td>Sinha Path</td><td>1930-11-25</td><td>Female</td><td>NA</td><td>India</td><td>Agartala</td><td>303503</td><td>S110</td><td>Y</td><td>1950-11-25</td><td>1957-09-14</td></tr><tr><td>SUBID10075</td><td>NA</td><td>Singh</td><td>Iyengar Nagar</td><td>1956-01-29</td><td>Male</td><td>+91 6891482136</td><td>India</td><td>Navi Mumbai</td><td>836175</td><td>S107</td><td>N</td><td>1976-01-29</td><td>1979-05-25</td></tr><tr><td>SUBID1030</td><td>Upasana</td><td>Pandey</td><td>Seth Chowk</td><td>1956-06-01</td><td>Male</td><td>+91 0548234943</td><td>India</td><td>Hyderabad</td><td>234823</td><td>S102</td><td>N</td><td>1976-06-01</td><td>1981-02-14</td></tr><tr><td>SUBID10048</td><td>Chitranjan</td><td>Mishra</td><td>Madan Nagar</td><td>1925-09-09</td><td>Female</td><td>+91 5176024720</td><td>India</td><td>Morbi</td><td>945697</td><td>S108</td><td>N</td><td>1945-09-09</td><td>1952-06-21</td></tr><tr><td>SUBID10060</td><td>Jitesh</td><td>Vishwakarma</td><td>Gopal Path</td><td>1983-02-03</td><td>Male</td><td>+91 6515468035</td><td>India</td><td>Karimnagar</td><td>124564</td><td>S110</td><td>Y</td><td>2003-02-03</td><td>2008-04-30</td></tr><tr><td>SUBID10018</td><td>Bhagavaana</td><td>Kumar</td><td>Kulkarni Zila</td><td>1935-09-16</td><td>Female</td><td>+91 6071745855</td><td>India</td><td>Shahjahanpur</td><td>597276</td><td>S101</td><td>N</td><td>1955-09-16</td><td>1958-05-31</td></tr><tr><td>SUBID10056</td><td>Chanak</td><td>Gupta</td><td>Shetty Nagar</td><td>1954-08-27</td><td>Male</td><td>+91 5093121123</td><td>India</td><td>Jalandhar</td><td>602989</td><td>S105</td><td>N</td><td>1974-08-27</td><td>1982-06-15</td></tr><tr><td>SUBID10002</td><td>Ujjawal</td><td>Devi</td><td>Mammen Zila</td><td>1980-04-16</td><td>Male</td><td>+91 8547451606</td><td>India</td><td>Berhampur</td><td>914455</td><td>S106</td><td>N</td><td>2000-04-16</td><td>2008-05-04</td></tr><tr><td>SUBID10083</td><td>Bhilangana</td><td>Pandit</td><td>Ramachandran Path</td><td>1995-01-04</td><td>Female</td><td>+91 6653069630</td><td>India</td><td>Fatehpur</td><td>359466</td><td>S109</td><td>Y</td><td>2015-01-04</td><td>2017-10-05</td></tr><tr><td>SUBID10085</td><td>Sukanya</td><td>Sonkar</td><td>Sangha Street</td><td>1942-01-16</td><td>Female</td><td>+91 5689645499</td><td>India</td><td>Vijayanagaram</td><td>226215</td><td>S101</td><td>N</td><td>1962-01-16</td><td>1967-04-10</td></tr><tr><td>SUBID10081</td><td>Mansi</td><td>Divedi</td><td>Bhattacharyya Road</td><td>1947-03-20</td><td>Female</td><td>+91 1135113927</td><td>India</td><td>Hosur</td><td>995152</td><td>S105</td><td>Y</td><td>1967-03-20</td><td>1971-07-25</td></tr><tr><td>SUBID10009</td><td>NA</td><td>Gupta</td><td>Thakur Circle</td><td>1925-06-12</td><td>Male</td><td>+91 1780763280</td><td>India</td><td>Bangalore</td><td>957469</td><td>S105</td><td>Y</td><td>1945-06-12</td><td>1953-08-30</td></tr><tr><td>SUBID10031</td><td>Kanhaiya</td><td>Lal</td><td>Savant Nagar</td><td>1954-10-19</td><td>Female</td><td>+91 0788738026</td><td>India</td><td>Mysore</td><td>638433</td><td>S104</td><td>Y</td><td>1974-10-19</td><td>1977-01-03</td></tr><tr><td>SUBID10089</td><td>Dhuha</td><td>Tiwari</td><td>Aggarwal Street</td><td>1952-08-21</td><td>Male</td><td>+91 3188519840</td><td>India</td><td>Rampur</td><td>492137</td><td>S104</td><td>NA</td><td>1972-08-21</td><td>1981-05-13</td></tr><tr><td>SUBID1087</td><td>NA</td><td>Pandit</td><td>Srivastava Path</td><td>1924-12-10</td><td>Female</td><td>+91 9158965227</td><td>India</td><td>Sambhal</td><td>279219</td><td>S103</td><td>N</td><td>1944-12-10</td><td>1951-07-16</td></tr><tr><td>SUBID10079</td><td>Shahnawaz</td><td>Mishra</td><td>Agate Path</td><td>1971-06-24</td><td>Female</td><td>+91 4117017589</td><td>India</td><td>Rampur</td><td>528893</td><td>S102</td><td>Y</td><td>1991-06-24</td><td>2000-09-13</td></tr><tr><td>SUBID10064</td><td>NA</td><td>Pandey</td><td>Mangat Path</td><td>1994-01-13</td><td>Male</td><td>+91 8444537013</td><td>India</td><td>Panihati</td><td>643791</td><td>S110</td><td>N</td><td>2014-01-13</td><td>2019-02-24</td></tr><tr><td>SUBID1020</td><td>Umang</td><td>Srivastav</td><td>Balay Chowk</td><td>1963-07-14</td><td>Female</td><td>+91 9485838770</td><td>India</td><td>Haridwar</td><td>181692</td><td>S109</td><td>Y</td><td>1983-07-14</td><td>1986-01-15</td></tr><tr><td>SUBID10023</td><td>Vaijayanti</td><td>Pratap</td><td>Khalsa Nagar</td><td>1920-11-13</td><td>Male</td><td>+91 9358851649</td><td>India</td><td>Mira-Bhayandar</td><td>419190</td><td>S102</td><td>Y</td><td>1940-11-13</td><td>1946-03-10</td></tr><tr><td>SUBID1063</td><td>Anshuk</td><td>Srivastav</td><td>Sridhar Path</td><td>1991-06-17</td><td>Male</td><td>+91 9764690642</td><td>India</td><td>Uluberia</td><td>270985</td><td>S105</td><td>N</td><td>2011-06-17</td><td>2014-07-11</td></tr><tr><td>SUBID10053</td><td>NA</td><td>Sonkar</td><td>Shetty Marg</td><td>1988-06-27</td><td>Male</td><td>+91 6877897646</td><td>India</td><td>Pali</td><td>383290</td><td>S102</td><td>Y</td><td>2008-06-27</td><td>2016-10-30</td></tr><tr><td>SUBID10092</td><td>NA</td><td>Rai</td><td>Karan Street</td><td>1940-08-22</td><td>Others</td><td>+91 7498206646</td><td>India</td><td>Ghaziabad</td><td>79586</td><td>S108</td><td>N</td><td>1960-08-22</td><td>1966-10-06</td></tr><tr><td>SUBID10070</td><td>Balaaditya</td><td>Gupta</td><td>Varty Road</td><td>1923-11-02</td><td>Male</td><td>+91 3871269153</td><td>India</td><td>Hajipur</td><td>3526</td><td>S109</td><td>N</td><td>1943-11-02</td><td>1952-09-24</td></tr><tr><td>SUBID1010</td><td>NA</td><td>Divedi</td><td>Dhillon</td><td>1976-02-03</td><td>Male</td><td>+91 5586075345</td><td>India</td><td>Rajkot</td><td>911319</td><td>S102</td><td>Y</td><td>1996-02-03</td><td>2002-01-27</td></tr><tr><td>SUBID10082</td><td>Girika</td><td>Thakur</td><td>Sinha Zila</td><td>1968-11-03</td><td>Female</td><td>+91 5601148700</td><td>India</td><td>Hospet</td><td>683614</td><td>S102</td><td>N</td><td>1988-11-03</td><td>1992-01-21</td></tr><tr><td>SUBID1043</td><td>Saroj</td><td>Pandit</td><td>Sathe Zila</td><td>1942-08-26</td><td>Female</td><td>+91 5690408243</td><td>India</td><td>Muzaffarpur</td><td>130486</td><td>S103</td><td>Y</td><td>1962-08-26</td><td>1964-08-29</td></tr><tr><td>SUBID1034</td><td>Gopal</td><td>Das</td><td>Saini</td><td>1986-05-14</td><td>Male</td><td>+91 1181471524</td><td>India</td><td>Raebareli</td><td>176221</td><td>S101</td><td>N</td><td>2006-05-14</td><td>2011-04-08</td></tr><tr><td>SUBID10025</td><td>NA</td><td>Tiwari</td><td>Sha Chowk</td><td>1955-12-24</td><td>Male</td><td>+91 2416747182</td><td>India</td><td>Karimnagar</td><td>567762</td><td>S106</td><td>N</td><td>1975-12-24</td><td>1983-02-03</td></tr><tr><td>SUBID1044</td><td>Ayushmati</td><td>Vishwakarma</td><td>Balakrishnan Street</td><td>1932-09-20</td><td>Male</td><td>+91 3683223970</td><td>India</td><td>Satna</td><td>131247</td><td>S108</td><td>N</td><td>1952-09-20</td><td>1961-01-24</td></tr><tr><td>SUBID10054</td><td>Shivakari</td><td>Pratap</td><td>Dugar Road</td><td>1944-11-02</td><td>Female</td><td>+91 3740484063</td><td>India</td><td>Hapur</td><td>28202</td><td>S104</td><td>N</td><td>1964-11-02</td><td>1967-06-15</td></tr><tr><td>SUBID10061</td><td>NA</td><td>Rajput</td><td>Anand Path</td><td>1966-09-25</td><td>Female</td><td>+91 6477918745</td><td>India</td><td>Kharagpur</td><td>934938</td><td>S103</td><td>NA</td><td>1986-09-25</td><td>1991-06-03</td></tr><tr><td>SUBID10052</td><td>Laksman</td><td>Rao</td><td>Sood Marg</td><td>1939-05-26</td><td>Female</td><td>+91 4504120828</td><td>India</td><td>Ahmednagar</td><td>117923</td><td>S101</td><td>Y</td><td>1959-05-26</td><td>1960-11-07</td></tr><tr><td>SUBID10071</td><td>NA</td><td>Rai</td><td>Choudhury Chowk</td><td>1941-12-26</td><td>Female</td><td>+91 9287216619</td><td>India</td><td>Vellore</td><td>239532</td><td>S101</td><td>N</td><td>1961-12-26</td><td>1969-02-23</td></tr><tr><td>SUBID10000</td><td>Harbir</td><td>Vishwakarma</td><td>Baria Marg</td><td>1924-06-30</td><td>Female</td><td>+91 0112009318</td><td>India</td><td>Rourkela</td><td>767058</td><td>S107</td><td>Y</td><td>1944-06-30</td><td>1954-01-14</td></tr><tr><td>SUBID10096</td><td>Chanak</td><td>Sonkar</td><td>Kaur</td><td>1959-04-07</td><td>Others</td><td>+91 7284540687</td><td>India</td><td>Raurkela Industrial Township</td><td>899590</td><td>S101</td><td>Y</td><td>1979-04-07</td><td>1986-03-07</td></tr><tr><td>SUBID10094</td><td>Charanpal</td><td>Yadav</td><td>Sehgal Circle</td><td>1986-10-12</td><td>Male</td><td>+91 2196055115</td><td>India</td><td>Gurgaon</td><td>640326</td><td>S109</td><td>Y</td><td>2006-10-12</td><td>2016-05-13</td></tr><tr><td>SUBID10014</td><td>NA</td><td>Srivastav</td><td>Chandra Path</td><td>1981-01-25</td><td>Female</td><td>+91 2960004518</td><td>India</td><td>Surendranagar Dudhrej</td><td>111966</td><td>S102</td><td>N</td><td>2001-01-25</td><td>2005-07-13</td></tr><tr><td>SUBID1045</td><td>Drashti</td><td>Divedi</td><td>Wadhwa</td><td>1926-07-03</td><td>Male</td><td>+91 9447269993</td><td>India</td><td>Saharsa</td><td>581568</td><td>S104</td><td>Y</td><td>1946-07-03</td><td>1952-11-27</td></tr><tr><td>SUBID10028</td><td>Pushti</td><td>Pandit</td><td>Deol Path</td><td>1935-10-15</td><td>Female</td><td>+91 7093722203</td><td>India</td><td>Morbi</td><td>284168</td><td>S106</td><td>N</td><td>1955-10-15</td><td>1959-06-04</td></tr><tr><td>SUBID1073</td><td>Virender</td><td>Maurrya</td><td>Chakrabarti</td><td>1936-10-27</td><td>Male</td><td>+91 7734026802</td><td>India</td><td>Bhusawal</td><td>374302</td><td>S104</td><td>N</td><td>1956-10-27</td><td>1961-04-27</td></tr><tr><td>SUBID10035</td><td>Dheeman</td><td>Tiwari</td><td>Dube Marg</td><td>1945-05-04</td><td>Male</td><td>+91 8239321466</td><td>India</td><td>Mysore</td><td>811970</td><td>S101</td><td>Y</td><td>1965-05-04</td><td>1973-11-13</td></tr><tr><td>SUBID1086</td><td>Banita</td><td>Rao</td><td>Thakur</td><td>1979-01-28</td><td>Male</td><td>+91 4743834161</td><td>India</td><td>Ghaziabad</td><td>907613</td><td>S109</td><td>N</td><td>1999-01-28</td><td>2000-09-05</td></tr><tr><td>SUBID10088</td><td>NA</td><td>Rajput</td><td>Dua Zila</td><td>1922-07-30</td><td>Female</td><td>+91 9523946101</td><td>India</td><td>Tadipatri</td><td>743449</td><td>S110</td><td>N</td><td>1942-07-30</td><td>1949-06-07</td></tr><tr><td>SUBID10016</td><td>Amritkala</td><td>Srivastav</td><td>Guha Path</td><td>1933-11-20</td><td>Female</td><td>+91 0537157280</td><td>India</td><td>Meerut</td><td>863467</td><td>S106</td><td>Y</td><td>1953-11-20</td><td>1955-07-29</td></tr><tr><td>SUBID10057</td><td>Chittesh</td><td>Pandey</td><td>Mangal Chowk</td><td>1949-10-17</td><td>Male</td><td>+91 1378163498</td><td>India</td><td>Thoothukudi</td><td>666415</td><td>S109</td><td>Y</td><td>1969-10-17</td><td>1975-10-08</td></tr><tr><td>SUBID1021</td><td>Darsana</td><td>Yadav</td><td>Upadhyay Zila</td><td>1932-05-29</td><td>Male</td><td>+91 7676311811</td><td>India</td><td>Dibrugarh</td><td>187414</td><td>S109</td><td>Y</td><td>1952-05-29</td><td>1953-10-14</td></tr><tr><td>SUBID10003</td><td>Ballari</td><td>Mishra</td><td>Sahni Zila</td><td>1969-09-25</td><td>Female</td><td>+91 0106026841</td><td>India</td><td>Bihar Sharif</td><td>91481</td><td>S104</td><td>N</td><td>1989-09-25</td><td>1995-06-05</td></tr><tr><td>SUBID10069</td><td>Bhageeratha</td><td>Srivastav</td><td>Das Ganj</td><td>1973-03-21</td><td>Male</td><td>+91 0590662722</td><td>India</td><td>Sonipat</td><td>695316</td><td>S103</td><td>Y</td><td>1993-03-21</td><td>1997-08-01</td></tr><tr><td>SUBID10084</td><td>NA</td><td>Thakur</td><td>Raval Zila</td><td>1924-06-07</td><td>Female</td><td>+91 7367059254</td><td>India</td><td>Bhavnagar</td><td>464111</td><td>S107</td><td>Y</td><td>1944-06-07</td><td>1952-05-22</td></tr><tr><td>SUBID10005</td><td>Atasi</td><td>Seth</td><td>Khatri Nagar</td><td>1967-10-02</td><td>Male</td><td>+91 9747336855</td><td>India</td><td>Amravati</td><td>229062</td><td>S104</td><td>Y</td><td>1987-10-02</td><td>1995-02-13</td></tr><tr><td>SUBID10077</td><td>Girija</td><td>Maurrya</td><td>Iyengar Road</td><td>1933-04-25</td><td>Male</td><td>+91 1811765039</td><td>India</td><td>Jaipur</td><td>204379</td><td>S105</td><td>N</td><td>1953-04-25</td><td>1963-04-18</td></tr><tr><td>SUBID10015</td><td>Bhagvan</td><td>Srivastav</td><td>Edwin</td><td>1966-07-24</td><td>Female</td><td>+91 0297693485</td><td>India</td><td>Bhimavaram</td><td>436513</td><td>S105</td><td>Y</td><td>1986-07-24</td><td>1988-02-04</td></tr><tr><td>SUBID10076</td><td>Mamta</td><td>Tiwari</td><td>Batra</td><td>1964-12-21</td><td>Female</td><td>+91 5559521919</td><td>India</td><td>Secunderabad</td><td>123181</td><td>S104</td><td>N</td><td>1984-12-21</td><td>1987-01-08</td></tr><tr><td>SUBID10019</td><td>NA</td><td>Maurya</td><td>Sharaf Nagar</td><td>1924-11-09</td><td>Female</td><td>+91 8906694405</td><td>India</td><td>Jabalpur</td><td>958538</td><td>S104</td><td>N</td><td>1944-11-09</td><td>1951-10-14</td></tr><tr><td>SUBID10033</td><td>Gensho</td><td>Srivastav</td><td>Korpal Ganj</td><td>1992-06-06</td><td>Male</td><td>+91 4834040556</td><td>India</td><td>Ludhiana</td><td>835018</td><td>S101</td><td>N</td><td>2012-06-06</td><td>2022-01-09</td></tr><tr><td>SUBID1091</td><td>NA</td><td>Thakur</td><td>Bala</td><td>1930-12-31</td><td>Male</td><td>+91 9664169480</td><td>India</td><td>Kamarhati</td><td>682652</td><td>S110</td><td>Y</td><td>1950-12-31</td><td>1958-06-21</td></tr><tr><td>SUBID10090</td><td>NA</td><td>Mishra</td><td>Chandran Nagar</td><td>1938-06-07</td><td>Female</td><td>+91 6869721169</td><td>India</td><td>Sikar</td><td>564747</td><td>S101</td><td>Y</td><td>1958-06-07</td><td>1967-08-23</td></tr><tr><td>SUBID10022</td><td>Prakash</td><td>Rao</td><td>Sachar</td><td>1923-09-15</td><td>Female</td><td>+91 9268324471</td><td>India</td><td>Kottayam</td><td>180680</td><td>NA</td><td>N</td><td>1943-09-15</td><td>1948-10-19</td></tr><tr><td>SUBID10039</td><td>Madhubala</td><td>Yadav</td><td>Sangha Marg</td><td>1937-01-11</td><td>Male</td><td>+91 8498685882</td><td>India</td><td>Jaunpur</td><td>624102</td><td>S104</td><td>Y</td><td>1957-01-11</td><td>1965-10-09</td></tr><tr><td>SUBID10055</td><td>Madhu</td><td>Thakur</td><td>Sule Marg</td><td>1984-10-23</td><td>Male</td><td>+91 8367885507</td><td>India</td><td>Udaipur</td><td>565423</td><td>S107</td><td>N</td><td>2004-10-23</td><td>2008-07-10</td></tr><tr><td>SUBID10017</td><td>Bandhu</td><td>Seth</td><td>Varughese</td><td>1996-10-15</td><td>Male</td><td>+91 0695289163</td><td>India</td><td>Chinsurah</td><td>136713</td><td>S108</td><td>N</td><td>2016-10-15</td><td>2018-06-08</td></tr><tr><td>SUBID10080</td><td>Tej</td><td>Sonkar</td><td>Sarraf Chowk</td><td>1942-06-11</td><td>Male</td><td>+91 3450311029</td><td>India</td><td>Haridwar</td><td>506221</td><td>S105</td><td>Y</td><td>1962-06-11</td><td>1964-10-14</td></tr><tr><td>SUBID1098</td><td>Pushkar</td><td>Kumar</td><td>Sodhi Zila</td><td>1934-10-05</td><td>Others</td><td>+91 8956368286</td><td>India</td><td>Korba</td><td>910732</td><td>S107</td><td>Y</td><td>1954-10-05</td><td>1961-04-05</td></tr><tr><td>SUBID1032</td><td>NA</td><td>Seth</td><td>Sandhu Chowk</td><td>1968-07-02</td><td>Female</td><td>+91 2599794460</td><td>India</td><td>Gwalior</td><td>611826</td><td>S110</td><td>N</td><td>1988-07-02</td><td>1991-03-14</td></tr><tr><td>SUBID10026</td><td>Ekant</td><td>Sonkar</td><td>Walla Road</td><td>1943-08-13</td><td>Male</td><td>+91 7686951174</td><td>India</td><td>Berhampore</td><td>948589</td><td>S110</td><td>Y</td><td>1963-08-13</td><td>1967-05-29</td></tr><tr><td>SUBID1062</td><td>Lalit</td><td>Mishra</td><td>Comar Street</td><td>1924-02-15</td><td>Female</td><td>+91 4647833992</td><td>India</td><td>Tinsukia</td><td>963770</td><td>S103</td><td>N</td><td>1944-02-15</td><td>1947-09-28</td></tr><tr><td>SUBID10095</td><td>Ekaaksh</td><td>Rai</td><td>Bansal Ganj</td><td>1933-12-02</td><td>Others</td><td>NA</td><td>India</td><td>Pimpri-Chinchwad</td><td>158186</td><td>S107</td><td>N</td><td>1953-12-02</td><td>1960-07-29</td></tr><tr><td>SUBID10097</td><td>NA</td><td>Sonkar</td><td>Rana Ganj</td><td>1940-02-04</td><td>Others</td><td>+91 8908240160</td><td>India</td><td>Mira-Bhayandar</td><td>896586</td><td>S107</td><td>Y</td><td>1960-02-04</td><td>1965-01-12</td></tr><tr><td>SUBID10093</td><td>Chandavarman</td><td>Singh</td><td>Sarkar Circle</td><td>1997-05-10</td><td>Others</td><td>+91 6559031791</td><td>India</td><td>Navi Mumbai</td><td>83240</td><td>S110</td><td>N</td><td>2017-05-10</td><td>2022-08-27</td></tr><tr><td>SUBID10027</td><td>Chancharik</td><td>Pandey</td><td>Karan Ganj</td><td>1983-09-05</td><td>Male</td><td>+91 5309364825</td><td>India</td><td>Chapra</td><td>154667</td><td>S109</td><td>N</td><td>2003-09-05</td><td>2011-06-12</td></tr><tr><td>SUBID10001</td><td>Brahmdev</td><td>Sonkar</td><td>Lala Marg</td><td>1948-12-20</td><td>Female</td><td>+91 1727749552</td><td>India</td><td>Tiruvottiyur</td><td>34639</td><td>S105</td><td>Y</td><td>1968-12-20</td><td>1970-05-16</td></tr><tr><td>SUBID10042</td><td>Chakrika</td><td>Sonkar</td><td>Bansal Circle</td><td>1964-08-05</td><td>Male</td><td>+91 8185162879</td><td>India</td><td>Ranchi</td><td>503290</td><td>S108</td><td>Y</td><td>1984-08-05</td><td>1992-09-09</td></tr><tr><td>SUBID10008</td><td>Gurudas</td><td>Gupta</td><td>Sarin Nagar</td><td>1945-05-06</td><td>Male</td><td>+91 1232859381</td><td>India</td><td>Kamarhati</td><td>933226</td><td>S103</td><td>Y</td><td>1965-05-06</td><td>1970-09-16</td></tr><tr><td>SUBID10004</td><td>Devnath</td><td>Srivastav</td><td>Magar Zila</td><td>1946-05-01</td><td>Female</td><td>+91 1868774631</td><td>India</td><td>Bidhannagar</td><td>531742</td><td>S110</td><td>N</td><td>1966-05-01</td><td>1970-12-09</td></tr><tr><td>SUBID1006</td><td>Manish</td><td>Maurya</td><td>Swaminathan Chowk</td><td>1967-06-06</td><td>Male</td><td>+91 4354294043</td><td>India</td><td>Panvel</td><td>438733</td><td>S109</td><td>NA</td><td>1987-06-06</td><td>1995-03-21</td></tr><tr><td>SUBID10072</td><td>Gopal</td><td>Srivastav</td><td>Desai Street</td><td>1936-03-11</td><td>Female</td><td>+91 3791210190</td><td>India</td><td>Bidhannagar</td><td>761800</td><td>S103</td><td>Y</td><td>1956-03-11</td><td>1964-07-28</td></tr><tr><td>SUBID10029</td><td>Swati</td><td>Seth</td><td>Kant Marg</td><td>1987-12-11</td><td>Female</td><td>+91 1028477510</td><td>India</td><td>Amravati</td><td>932221</td><td>S102</td><td>N</td><td>2007-12-11</td><td>2011-10-17</td></tr><tr><td>SUBID10068</td><td>NA</td><td>Mishra</td><td>Bath Nagar</td><td>1927-02-26</td><td>Female</td><td>+91 4984346995</td><td>India</td><td>Ambarnath</td><td>766224</td><td>S110</td><td>N</td><td>1947-02-26</td><td>1948-03-30</td></tr><tr><td>SUBID10066</td><td>NA</td><td>Seth</td><td>Chaudhuri Marg</td><td>1930-09-01</td><td>Male</td><td>+91 7061843400</td><td>India</td><td>Kolhapur</td><td>597470</td><td>S102</td><td>N</td><td>1950-09-01</td><td>1957-12-01</td></tr><tr><td>SUBID10024</td><td>Menakshi</td><td>Seth</td><td>Wable Street</td><td>1987-03-06</td><td>Male</td><td>+91 0531676556</td><td>India</td><td>Kamarhati</td><td>882577</td><td>S107</td><td>N</td><td>2007-03-06</td><td>2014-02-25</td></tr><tr><td>SUBID10074</td><td>NA</td><td>Singh</td><td>Kalla Path</td><td>1963-11-21</td><td>Male</td><td>+91 7881749363</td><td>India</td><td>Bokaro</td><td>866319</td><td>S105</td><td>Y</td><td>1983-11-21</td><td>1985-09-29</td></tr><tr><td>SUBID1037</td><td>NA</td><td>Rajput</td><td>Shere Chowk</td><td>1948-11-10</td><td>Male</td><td>+91 8390195092</td><td>India</td><td>Vadodara</td><td>877443</td><td>S101</td><td>Y</td><td>1968-11-10</td><td>1973-12-25</td></tr><tr><td>SUBID1058</td><td>Nawal</td><td>Rajput</td><td>Deol Nagar</td><td>1940-01-22</td><td>Male</td><td>+91 1885105576</td><td>India</td><td>Bhopal</td><td>791168</td><td>S106</td><td>N</td><td>1960-01-22</td><td>1969-04-18</td></tr><tr><td>SUBID1038</td><td>NA</td><td>Thakur</td><td>Rastogi Street</td><td>1955-04-07</td><td>Female</td><td>+91 7434031446</td><td>India</td><td>Vijayawada</td><td>438940</td><td>S104</td><td>NA</td><td>1975-04-07</td><td>1982-01-25</td></tr><tr><td>SUBID10099</td><td>Shikha</td><td>Srivastav</td><td>Ahuja Road</td><td>1970-09-06</td><td>Others</td><td>+91 3042509956</td><td>India</td><td>Nanded</td><td>101500</td><td>S109</td><td>Y</td><td>1990-09-06</td><td>1997-11-27</td></tr><tr><td>SUBID10078</td><td>Aaraadhana</td><td>Rao</td><td>Raval Nagar</td><td>1980-02-07</td><td>Male</td><td>+91 2432610572</td><td>India</td><td>Jhansi</td><td>429941</td><td>S108</td><td>N</td><td>2000-02-07</td><td>2005-02-06</td></tr><tr><td>SUBID10050</td><td>Deependu</td><td>Gupta</td><td>Banik Ganj</td><td>1952-02-13</td><td>Female</td><td>+91 5674176644</td><td>India</td><td>Bareilly</td><td>417855</td><td>S102</td><td>Y</td><td>1972-02-13</td><td>1976-08-23</td></tr><tr><td>SUBID1036</td><td>Upasana</td><td>Thakur</td><td>Vasa Ganj</td><td>1927-10-03</td><td>Female</td><td>NA</td><td>India</td><td>Ratlam</td><td>326733</td><td>S108</td><td>N</td><td>1947-10-03</td><td>1951-02-20</td></tr><tr><td>SUBID10059</td><td>Gajabahu</td><td>Singh</td><td>Kara</td><td>1959-03-15</td><td>Male</td><td>+91 1207869436</td><td>India</td><td>Udupi</td><td>637221</td><td>S101</td><td>Y</td><td>1979-03-15</td><td>1986-07-05</td></tr><tr><td>SUBID1067</td><td>Kishan</td><td>Rao</td><td>Badal Nagar</td><td>1923-05-12</td><td>Male</td><td>+91 9067652693</td><td>India</td><td>Srikakulam</td><td>703899</td><td>S110</td><td>Y</td><td>1943-05-12</td><td>1946-09-20</td></tr><tr><td>SUBID10040</td><td>Anjushree</td><td>Pandey</td><td>Vora Ganj</td><td>1976-07-04</td><td>Male</td><td>+91 5322869455</td><td>India</td><td>Ghaziabad</td><td>782221</td><td>S105</td><td>N</td><td>1996-07-04</td><td>1999-02-17</td></tr><tr><td>SUBID10007</td><td>Aakar</td><td>Yadav</td><td>Swamy</td><td>1925-03-05</td><td>Female</td><td>+91 2777633911</td><td>India</td><td>Bihar Sharif</td><td>535907</td><td>S104</td><td>N</td><td>1945-03-05</td><td>1946-11-07</td></tr><tr><td>SUBID1047</td><td>NA</td><td>Rai</td><td>Sagar Chowk</td><td>1931-02-04</td><td>Male</td><td>+91 2973105946</td><td>India</td><td>Shivpuri</td><td>794170</td><td>S109</td><td>Y</td><td>1951-02-04</td><td>1955-07-14</td></tr></tbody></table></div>"
      ]
     },
     "metadata": {
      "application/vnd.databricks.v1+output": {
       "addedWidgets": {},
       "aggData": [],
       "aggError": "",
       "aggOverflow": false,
       "aggSchema": [],
       "aggSeriesLimitReached": false,
       "aggType": "",
       "arguments": {},
       "columnCustomDisplayInfos": {},
       "data": [
        [
         "SUBID10013",
         "Brahmvir",
         "Rai",
         "Shah Path",
         "1991-11-11",
         "Male",
         "+91 7316972612",
         "India",
         "Ambala",
         249898,
         "S106",
         "N",
         "2011-11-11",
         "2020-05-23"
        ],
        [
         "SUBID10046",
         "Aayushmaan",
         "Maurya",
         "Johal Nagar",
         "1983-11-14",
         "Female",
         "+91 4464709769",
         "India",
         "Mehsana",
         987281,
         "S104",
         "Y",
         "2003-11-14",
         "2012-10-22"
        ],
        [
         "SUBID10049",
         "Paridhi",
         "Yadav",
         "Sant Path",
         "1959-03-27",
         "Female",
         "+91 2139280879",
         "India",
         "Jabalpur",
         883754,
         "NA",
         "N",
         "1979-03-27",
         "1985-06-01"
        ],
        [
         "SUBID10012",
         "Dharmadaas",
         "Tiwari",
         "Rama",
         "1964-04-29",
         "Male",
         "+91 6345482027",
         "India",
         "Bhalswa Jahangir Pur",
         430793,
         "S103",
         "N",
         "1984-04-29",
         "1988-02-07"
        ],
        [
         "SUBID1065",
         "Dipesh",
         "Mishra",
         "Char Path",
         "1949-04-01",
         "Female",
         "+91 5851958964",
         "India",
         "Kochi",
         31269,
         "S103",
         "Y",
         "1969-04-01",
         "1970-06-02"
        ],
        [
         "SUBID10011",
         "NA",
         "Vishwakarma",
         "Rajagopalan",
         "1955-01-22",
         "Female",
         "+91 4146391938",
         "India",
         "Ghaziabad",
         337042,
         "S106",
         "N",
         "1975-01-22",
         "1978-11-02"
        ],
        [
         "SUBID10051",
         "NA",
         "Rajput",
         "Chauhan Chowk",
         "1946-10-17",
         "Male",
         "+91 9887324437",
         "India",
         "Baranagar",
         765234,
         "S103",
         "Y",
         "1966-10-17",
         "1969-06-26"
        ],
        [
         "SUBID1041",
         "NA",
         "Rajput",
         "Sinha Path",
         "1930-11-25",
         "Female",
         "NA",
         "India",
         "Agartala",
         303503,
         "S110",
         "Y",
         "1950-11-25",
         "1957-09-14"
        ],
        [
         "SUBID10075",
         "NA",
         "Singh",
         "Iyengar Nagar",
         "1956-01-29",
         "Male",
         "+91 6891482136",
         "India",
         "Navi Mumbai",
         836175,
         "S107",
         "N",
         "1976-01-29",
         "1979-05-25"
        ],
        [
         "SUBID1030",
         "Upasana",
         "Pandey",
         "Seth Chowk",
         "1956-06-01",
         "Male",
         "+91 0548234943",
         "India",
         "Hyderabad",
         234823,
         "S102",
         "N",
         "1976-06-01",
         "1981-02-14"
        ],
        [
         "SUBID10048",
         "Chitranjan",
         "Mishra",
         "Madan Nagar",
         "1925-09-09",
         "Female",
         "+91 5176024720",
         "India",
         "Morbi",
         945697,
         "S108",
         "N",
         "1945-09-09",
         "1952-06-21"
        ],
        [
         "SUBID10060",
         "Jitesh",
         "Vishwakarma",
         "Gopal Path",
         "1983-02-03",
         "Male",
         "+91 6515468035",
         "India",
         "Karimnagar",
         124564,
         "S110",
         "Y",
         "2003-02-03",
         "2008-04-30"
        ],
        [
         "SUBID10018",
         "Bhagavaana",
         "Kumar",
         "Kulkarni Zila",
         "1935-09-16",
         "Female",
         "+91 6071745855",
         "India",
         "Shahjahanpur",
         597276,
         "S101",
         "N",
         "1955-09-16",
         "1958-05-31"
        ],
        [
         "SUBID10056",
         "Chanak",
         "Gupta",
         "Shetty Nagar",
         "1954-08-27",
         "Male",
         "+91 5093121123",
         "India",
         "Jalandhar",
         602989,
         "S105",
         "N",
         "1974-08-27",
         "1982-06-15"
        ],
        [
         "SUBID10002",
         "Ujjawal",
         "Devi",
         "Mammen Zila",
         "1980-04-16",
         "Male",
         "+91 8547451606",
         "India",
         "Berhampur",
         914455,
         "S106",
         "N",
         "2000-04-16",
         "2008-05-04"
        ],
        [
         "SUBID10083",
         "Bhilangana",
         "Pandit",
         "Ramachandran Path",
         "1995-01-04",
         "Female",
         "+91 6653069630",
         "India",
         "Fatehpur",
         359466,
         "S109",
         "Y",
         "2015-01-04",
         "2017-10-05"
        ],
        [
         "SUBID10085",
         "Sukanya",
         "Sonkar",
         "Sangha Street",
         "1942-01-16",
         "Female",
         "+91 5689645499",
         "India",
         "Vijayanagaram",
         226215,
         "S101",
         "N",
         "1962-01-16",
         "1967-04-10"
        ],
        [
         "SUBID10081",
         "Mansi",
         "Divedi",
         "Bhattacharyya Road",
         "1947-03-20",
         "Female",
         "+91 1135113927",
         "India",
         "Hosur",
         995152,
         "S105",
         "Y",
         "1967-03-20",
         "1971-07-25"
        ],
        [
         "SUBID10009",
         "NA",
         "Gupta",
         "Thakur Circle",
         "1925-06-12",
         "Male",
         "+91 1780763280",
         "India",
         "Bangalore",
         957469,
         "S105",
         "Y",
         "1945-06-12",
         "1953-08-30"
        ],
        [
         "SUBID10031",
         "Kanhaiya",
         "Lal",
         "Savant Nagar",
         "1954-10-19",
         "Female",
         "+91 0788738026",
         "India",
         "Mysore",
         638433,
         "S104",
         "Y",
         "1974-10-19",
         "1977-01-03"
        ],
        [
         "SUBID10089",
         "Dhuha",
         "Tiwari",
         "Aggarwal Street",
         "1952-08-21",
         "Male",
         "+91 3188519840",
         "India",
         "Rampur",
         492137,
         "S104",
         "NA",
         "1972-08-21",
         "1981-05-13"
        ],
        [
         "SUBID1087",
         "NA",
         "Pandit",
         "Srivastava Path",
         "1924-12-10",
         "Female",
         "+91 9158965227",
         "India",
         "Sambhal",
         279219,
         "S103",
         "N",
         "1944-12-10",
         "1951-07-16"
        ],
        [
         "SUBID10079",
         "Shahnawaz",
         "Mishra",
         "Agate Path",
         "1971-06-24",
         "Female",
         "+91 4117017589",
         "India",
         "Rampur",
         528893,
         "S102",
         "Y",
         "1991-06-24",
         "2000-09-13"
        ],
        [
         "SUBID10064",
         "NA",
         "Pandey",
         "Mangat Path",
         "1994-01-13",
         "Male",
         "+91 8444537013",
         "India",
         "Panihati",
         643791,
         "S110",
         "N",
         "2014-01-13",
         "2019-02-24"
        ],
        [
         "SUBID1020",
         "Umang",
         "Srivastav",
         "Balay Chowk",
         "1963-07-14",
         "Female",
         "+91 9485838770",
         "India",
         "Haridwar",
         181692,
         "S109",
         "Y",
         "1983-07-14",
         "1986-01-15"
        ],
        [
         "SUBID10023",
         "Vaijayanti",
         "Pratap",
         "Khalsa Nagar",
         "1920-11-13",
         "Male",
         "+91 9358851649",
         "India",
         "Mira-Bhayandar",
         419190,
         "S102",
         "Y",
         "1940-11-13",
         "1946-03-10"
        ],
        [
         "SUBID1063",
         "Anshuk",
         "Srivastav",
         "Sridhar Path",
         "1991-06-17",
         "Male",
         "+91 9764690642",
         "India",
         "Uluberia",
         270985,
         "S105",
         "N",
         "2011-06-17",
         "2014-07-11"
        ],
        [
         "SUBID10053",
         "NA",
         "Sonkar",
         "Shetty Marg",
         "1988-06-27",
         "Male",
         "+91 6877897646",
         "India",
         "Pali",
         383290,
         "S102",
         "Y",
         "2008-06-27",
         "2016-10-30"
        ],
        [
         "SUBID10092",
         "NA",
         "Rai",
         "Karan Street",
         "1940-08-22",
         "Others",
         "+91 7498206646",
         "India",
         "Ghaziabad",
         79586,
         "S108",
         "N",
         "1960-08-22",
         "1966-10-06"
        ],
        [
         "SUBID10070",
         "Balaaditya",
         "Gupta",
         "Varty Road",
         "1923-11-02",
         "Male",
         "+91 3871269153",
         "India",
         "Hajipur",
         3526,
         "S109",
         "N",
         "1943-11-02",
         "1952-09-24"
        ],
        [
         "SUBID1010",
         "NA",
         "Divedi",
         "Dhillon",
         "1976-02-03",
         "Male",
         "+91 5586075345",
         "India",
         "Rajkot",
         911319,
         "S102",
         "Y",
         "1996-02-03",
         "2002-01-27"
        ],
        [
         "SUBID10082",
         "Girika",
         "Thakur",
         "Sinha Zila",
         "1968-11-03",
         "Female",
         "+91 5601148700",
         "India",
         "Hospet",
         683614,
         "S102",
         "N",
         "1988-11-03",
         "1992-01-21"
        ],
        [
         "SUBID1043",
         "Saroj",
         "Pandit",
         "Sathe Zila",
         "1942-08-26",
         "Female",
         "+91 5690408243",
         "India",
         "Muzaffarpur",
         130486,
         "S103",
         "Y",
         "1962-08-26",
         "1964-08-29"
        ],
        [
         "SUBID1034",
         "Gopal",
         "Das",
         "Saini",
         "1986-05-14",
         "Male",
         "+91 1181471524",
         "India",
         "Raebareli",
         176221,
         "S101",
         "N",
         "2006-05-14",
         "2011-04-08"
        ],
        [
         "SUBID10025",
         "NA",
         "Tiwari",
         "Sha Chowk",
         "1955-12-24",
         "Male",
         "+91 2416747182",
         "India",
         "Karimnagar",
         567762,
         "S106",
         "N",
         "1975-12-24",
         "1983-02-03"
        ],
        [
         "SUBID1044",
         "Ayushmati",
         "Vishwakarma",
         "Balakrishnan Street",
         "1932-09-20",
         "Male",
         "+91 3683223970",
         "India",
         "Satna",
         131247,
         "S108",
         "N",
         "1952-09-20",
         "1961-01-24"
        ],
        [
         "SUBID10054",
         "Shivakari",
         "Pratap",
         "Dugar Road",
         "1944-11-02",
         "Female",
         "+91 3740484063",
         "India",
         "Hapur",
         28202,
         "S104",
         "N",
         "1964-11-02",
         "1967-06-15"
        ],
        [
         "SUBID10061",
         "NA",
         "Rajput",
         "Anand Path",
         "1966-09-25",
         "Female",
         "+91 6477918745",
         "India",
         "Kharagpur",
         934938,
         "S103",
         "NA",
         "1986-09-25",
         "1991-06-03"
        ],
        [
         "SUBID10052",
         "Laksman",
         "Rao",
         "Sood Marg",
         "1939-05-26",
         "Female",
         "+91 4504120828",
         "India",
         "Ahmednagar",
         117923,
         "S101",
         "Y",
         "1959-05-26",
         "1960-11-07"
        ],
        [
         "SUBID10071",
         "NA",
         "Rai",
         "Choudhury Chowk",
         "1941-12-26",
         "Female",
         "+91 9287216619",
         "India",
         "Vellore",
         239532,
         "S101",
         "N",
         "1961-12-26",
         "1969-02-23"
        ],
        [
         "SUBID10000",
         "Harbir",
         "Vishwakarma",
         "Baria Marg",
         "1924-06-30",
         "Female",
         "+91 0112009318",
         "India",
         "Rourkela",
         767058,
         "S107",
         "Y",
         "1944-06-30",
         "1954-01-14"
        ],
        [
         "SUBID10096",
         "Chanak",
         "Sonkar",
         "Kaur",
         "1959-04-07",
         "Others",
         "+91 7284540687",
         "India",
         "Raurkela Industrial Township",
         899590,
         "S101",
         "Y",
         "1979-04-07",
         "1986-03-07"
        ],
        [
         "SUBID10094",
         "Charanpal",
         "Yadav",
         "Sehgal Circle",
         "1986-10-12",
         "Male",
         "+91 2196055115",
         "India",
         "Gurgaon",
         640326,
         "S109",
         "Y",
         "2006-10-12",
         "2016-05-13"
        ],
        [
         "SUBID10014",
         "NA",
         "Srivastav",
         "Chandra Path",
         "1981-01-25",
         "Female",
         "+91 2960004518",
         "India",
         "Surendranagar Dudhrej",
         111966,
         "S102",
         "N",
         "2001-01-25",
         "2005-07-13"
        ],
        [
         "SUBID1045",
         "Drashti",
         "Divedi",
         "Wadhwa",
         "1926-07-03",
         "Male",
         "+91 9447269993",
         "India",
         "Saharsa",
         581568,
         "S104",
         "Y",
         "1946-07-03",
         "1952-11-27"
        ],
        [
         "SUBID10028",
         "Pushti",
         "Pandit",
         "Deol Path",
         "1935-10-15",
         "Female",
         "+91 7093722203",
         "India",
         "Morbi",
         284168,
         "S106",
         "N",
         "1955-10-15",
         "1959-06-04"
        ],
        [
         "SUBID1073",
         "Virender",
         "Maurrya",
         "Chakrabarti",
         "1936-10-27",
         "Male",
         "+91 7734026802",
         "India",
         "Bhusawal",
         374302,
         "S104",
         "N",
         "1956-10-27",
         "1961-04-27"
        ],
        [
         "SUBID10035",
         "Dheeman",
         "Tiwari",
         "Dube Marg",
         "1945-05-04",
         "Male",
         "+91 8239321466",
         "India",
         "Mysore",
         811970,
         "S101",
         "Y",
         "1965-05-04",
         "1973-11-13"
        ],
        [
         "SUBID1086",
         "Banita",
         "Rao",
         "Thakur",
         "1979-01-28",
         "Male",
         "+91 4743834161",
         "India",
         "Ghaziabad",
         907613,
         "S109",
         "N",
         "1999-01-28",
         "2000-09-05"
        ],
        [
         "SUBID10088",
         "NA",
         "Rajput",
         "Dua Zila",
         "1922-07-30",
         "Female",
         "+91 9523946101",
         "India",
         "Tadipatri",
         743449,
         "S110",
         "N",
         "1942-07-30",
         "1949-06-07"
        ],
        [
         "SUBID10016",
         "Amritkala",
         "Srivastav",
         "Guha Path",
         "1933-11-20",
         "Female",
         "+91 0537157280",
         "India",
         "Meerut",
         863467,
         "S106",
         "Y",
         "1953-11-20",
         "1955-07-29"
        ],
        [
         "SUBID10057",
         "Chittesh",
         "Pandey",
         "Mangal Chowk",
         "1949-10-17",
         "Male",
         "+91 1378163498",
         "India",
         "Thoothukudi",
         666415,
         "S109",
         "Y",
         "1969-10-17",
         "1975-10-08"
        ],
        [
         "SUBID1021",
         "Darsana",
         "Yadav",
         "Upadhyay Zila",
         "1932-05-29",
         "Male",
         "+91 7676311811",
         "India",
         "Dibrugarh",
         187414,
         "S109",
         "Y",
         "1952-05-29",
         "1953-10-14"
        ],
        [
         "SUBID10003",
         "Ballari",
         "Mishra",
         "Sahni Zila",
         "1969-09-25",
         "Female",
         "+91 0106026841",
         "India",
         "Bihar Sharif",
         91481,
         "S104",
         "N",
         "1989-09-25",
         "1995-06-05"
        ],
        [
         "SUBID10069",
         "Bhageeratha",
         "Srivastav",
         "Das Ganj",
         "1973-03-21",
         "Male",
         "+91 0590662722",
         "India",
         "Sonipat",
         695316,
         "S103",
         "Y",
         "1993-03-21",
         "1997-08-01"
        ],
        [
         "SUBID10084",
         "NA",
         "Thakur",
         "Raval Zila",
         "1924-06-07",
         "Female",
         "+91 7367059254",
         "India",
         "Bhavnagar",
         464111,
         "S107",
         "Y",
         "1944-06-07",
         "1952-05-22"
        ],
        [
         "SUBID10005",
         "Atasi",
         "Seth",
         "Khatri Nagar",
         "1967-10-02",
         "Male",
         "+91 9747336855",
         "India",
         "Amravati",
         229062,
         "S104",
         "Y",
         "1987-10-02",
         "1995-02-13"
        ],
        [
         "SUBID10077",
         "Girija",
         "Maurrya",
         "Iyengar Road",
         "1933-04-25",
         "Male",
         "+91 1811765039",
         "India",
         "Jaipur",
         204379,
         "S105",
         "N",
         "1953-04-25",
         "1963-04-18"
        ],
        [
         "SUBID10015",
         "Bhagvan",
         "Srivastav",
         "Edwin",
         "1966-07-24",
         "Female",
         "+91 0297693485",
         "India",
         "Bhimavaram",
         436513,
         "S105",
         "Y",
         "1986-07-24",
         "1988-02-04"
        ],
        [
         "SUBID10076",
         "Mamta",
         "Tiwari",
         "Batra",
         "1964-12-21",
         "Female",
         "+91 5559521919",
         "India",
         "Secunderabad",
         123181,
         "S104",
         "N",
         "1984-12-21",
         "1987-01-08"
        ],
        [
         "SUBID10019",
         "NA",
         "Maurya",
         "Sharaf Nagar",
         "1924-11-09",
         "Female",
         "+91 8906694405",
         "India",
         "Jabalpur",
         958538,
         "S104",
         "N",
         "1944-11-09",
         "1951-10-14"
        ],
        [
         "SUBID10033",
         "Gensho",
         "Srivastav",
         "Korpal Ganj",
         "1992-06-06",
         "Male",
         "+91 4834040556",
         "India",
         "Ludhiana",
         835018,
         "S101",
         "N",
         "2012-06-06",
         "2022-01-09"
        ],
        [
         "SUBID1091",
         "NA",
         "Thakur",
         "Bala",
         "1930-12-31",
         "Male",
         "+91 9664169480",
         "India",
         "Kamarhati",
         682652,
         "S110",
         "Y",
         "1950-12-31",
         "1958-06-21"
        ],
        [
         "SUBID10090",
         "NA",
         "Mishra",
         "Chandran Nagar",
         "1938-06-07",
         "Female",
         "+91 6869721169",
         "India",
         "Sikar",
         564747,
         "S101",
         "Y",
         "1958-06-07",
         "1967-08-23"
        ],
        [
         "SUBID10022",
         "Prakash",
         "Rao",
         "Sachar",
         "1923-09-15",
         "Female",
         "+91 9268324471",
         "India",
         "Kottayam",
         180680,
         "NA",
         "N",
         "1943-09-15",
         "1948-10-19"
        ],
        [
         "SUBID10039",
         "Madhubala",
         "Yadav",
         "Sangha Marg",
         "1937-01-11",
         "Male",
         "+91 8498685882",
         "India",
         "Jaunpur",
         624102,
         "S104",
         "Y",
         "1957-01-11",
         "1965-10-09"
        ],
        [
         "SUBID10055",
         "Madhu",
         "Thakur",
         "Sule Marg",
         "1984-10-23",
         "Male",
         "+91 8367885507",
         "India",
         "Udaipur",
         565423,
         "S107",
         "N",
         "2004-10-23",
         "2008-07-10"
        ],
        [
         "SUBID10017",
         "Bandhu",
         "Seth",
         "Varughese",
         "1996-10-15",
         "Male",
         "+91 0695289163",
         "India",
         "Chinsurah",
         136713,
         "S108",
         "N",
         "2016-10-15",
         "2018-06-08"
        ],
        [
         "SUBID10080",
         "Tej",
         "Sonkar",
         "Sarraf Chowk",
         "1942-06-11",
         "Male",
         "+91 3450311029",
         "India",
         "Haridwar",
         506221,
         "S105",
         "Y",
         "1962-06-11",
         "1964-10-14"
        ],
        [
         "SUBID1098",
         "Pushkar",
         "Kumar",
         "Sodhi Zila",
         "1934-10-05",
         "Others",
         "+91 8956368286",
         "India",
         "Korba",
         910732,
         "S107",
         "Y",
         "1954-10-05",
         "1961-04-05"
        ],
        [
         "SUBID1032",
         "NA",
         "Seth",
         "Sandhu Chowk",
         "1968-07-02",
         "Female",
         "+91 2599794460",
         "India",
         "Gwalior",
         611826,
         "S110",
         "N",
         "1988-07-02",
         "1991-03-14"
        ],
        [
         "SUBID10026",
         "Ekant",
         "Sonkar",
         "Walla Road",
         "1943-08-13",
         "Male",
         "+91 7686951174",
         "India",
         "Berhampore",
         948589,
         "S110",
         "Y",
         "1963-08-13",
         "1967-05-29"
        ],
        [
         "SUBID1062",
         "Lalit",
         "Mishra",
         "Comar Street",
         "1924-02-15",
         "Female",
         "+91 4647833992",
         "India",
         "Tinsukia",
         963770,
         "S103",
         "N",
         "1944-02-15",
         "1947-09-28"
        ],
        [
         "SUBID10095",
         "Ekaaksh",
         "Rai",
         "Bansal Ganj",
         "1933-12-02",
         "Others",
         "NA",
         "India",
         "Pimpri-Chinchwad",
         158186,
         "S107",
         "N",
         "1953-12-02",
         "1960-07-29"
        ],
        [
         "SUBID10097",
         "NA",
         "Sonkar",
         "Rana Ganj",
         "1940-02-04",
         "Others",
         "+91 8908240160",
         "India",
         "Mira-Bhayandar",
         896586,
         "S107",
         "Y",
         "1960-02-04",
         "1965-01-12"
        ],
        [
         "SUBID10093",
         "Chandavarman",
         "Singh",
         "Sarkar Circle",
         "1997-05-10",
         "Others",
         "+91 6559031791",
         "India",
         "Navi Mumbai",
         83240,
         "S110",
         "N",
         "2017-05-10",
         "2022-08-27"
        ],
        [
         "SUBID10027",
         "Chancharik",
         "Pandey",
         "Karan Ganj",
         "1983-09-05",
         "Male",
         "+91 5309364825",
         "India",
         "Chapra",
         154667,
         "S109",
         "N",
         "2003-09-05",
         "2011-06-12"
        ],
        [
         "SUBID10001",
         "Brahmdev",
         "Sonkar",
         "Lala Marg",
         "1948-12-20",
         "Female",
         "+91 1727749552",
         "India",
         "Tiruvottiyur",
         34639,
         "S105",
         "Y",
         "1968-12-20",
         "1970-05-16"
        ],
        [
         "SUBID10042",
         "Chakrika",
         "Sonkar",
         "Bansal Circle",
         "1964-08-05",
         "Male",
         "+91 8185162879",
         "India",
         "Ranchi",
         503290,
         "S108",
         "Y",
         "1984-08-05",
         "1992-09-09"
        ],
        [
         "SUBID10008",
         "Gurudas",
         "Gupta",
         "Sarin Nagar",
         "1945-05-06",
         "Male",
         "+91 1232859381",
         "India",
         "Kamarhati",
         933226,
         "S103",
         "Y",
         "1965-05-06",
         "1970-09-16"
        ],
        [
         "SUBID10004",
         "Devnath",
         "Srivastav",
         "Magar Zila",
         "1946-05-01",
         "Female",
         "+91 1868774631",
         "India",
         "Bidhannagar",
         531742,
         "S110",
         "N",
         "1966-05-01",
         "1970-12-09"
        ],
        [
         "SUBID1006",
         "Manish",
         "Maurya",
         "Swaminathan Chowk",
         "1967-06-06",
         "Male",
         "+91 4354294043",
         "India",
         "Panvel",
         438733,
         "S109",
         "NA",
         "1987-06-06",
         "1995-03-21"
        ],
        [
         "SUBID10072",
         "Gopal",
         "Srivastav",
         "Desai Street",
         "1936-03-11",
         "Female",
         "+91 3791210190",
         "India",
         "Bidhannagar",
         761800,
         "S103",
         "Y",
         "1956-03-11",
         "1964-07-28"
        ],
        [
         "SUBID10029",
         "Swati",
         "Seth",
         "Kant Marg",
         "1987-12-11",
         "Female",
         "+91 1028477510",
         "India",
         "Amravati",
         932221,
         "S102",
         "N",
         "2007-12-11",
         "2011-10-17"
        ],
        [
         "SUBID10068",
         "NA",
         "Mishra",
         "Bath Nagar",
         "1927-02-26",
         "Female",
         "+91 4984346995",
         "India",
         "Ambarnath",
         766224,
         "S110",
         "N",
         "1947-02-26",
         "1948-03-30"
        ],
        [
         "SUBID10066",
         "NA",
         "Seth",
         "Chaudhuri Marg",
         "1930-09-01",
         "Male",
         "+91 7061843400",
         "India",
         "Kolhapur",
         597470,
         "S102",
         "N",
         "1950-09-01",
         "1957-12-01"
        ],
        [
         "SUBID10024",
         "Menakshi",
         "Seth",
         "Wable Street",
         "1987-03-06",
         "Male",
         "+91 0531676556",
         "India",
         "Kamarhati",
         882577,
         "S107",
         "N",
         "2007-03-06",
         "2014-02-25"
        ],
        [
         "SUBID10074",
         "NA",
         "Singh",
         "Kalla Path",
         "1963-11-21",
         "Male",
         "+91 7881749363",
         "India",
         "Bokaro",
         866319,
         "S105",
         "Y",
         "1983-11-21",
         "1985-09-29"
        ],
        [
         "SUBID1037",
         "NA",
         "Rajput",
         "Shere Chowk",
         "1948-11-10",
         "Male",
         "+91 8390195092",
         "India",
         "Vadodara",
         877443,
         "S101",
         "Y",
         "1968-11-10",
         "1973-12-25"
        ],
        [
         "SUBID1058",
         "Nawal",
         "Rajput",
         "Deol Nagar",
         "1940-01-22",
         "Male",
         "+91 1885105576",
         "India",
         "Bhopal",
         791168,
         "S106",
         "N",
         "1960-01-22",
         "1969-04-18"
        ],
        [
         "SUBID1038",
         "NA",
         "Thakur",
         "Rastogi Street",
         "1955-04-07",
         "Female",
         "+91 7434031446",
         "India",
         "Vijayawada",
         438940,
         "S104",
         "NA",
         "1975-04-07",
         "1982-01-25"
        ],
        [
         "SUBID10099",
         "Shikha",
         "Srivastav",
         "Ahuja Road",
         "1970-09-06",
         "Others",
         "+91 3042509956",
         "India",
         "Nanded",
         101500,
         "S109",
         "Y",
         "1990-09-06",
         "1997-11-27"
        ],
        [
         "SUBID10078",
         "Aaraadhana",
         "Rao",
         "Raval Nagar",
         "1980-02-07",
         "Male",
         "+91 2432610572",
         "India",
         "Jhansi",
         429941,
         "S108",
         "N",
         "2000-02-07",
         "2005-02-06"
        ],
        [
         "SUBID10050",
         "Deependu",
         "Gupta",
         "Banik Ganj",
         "1952-02-13",
         "Female",
         "+91 5674176644",
         "India",
         "Bareilly",
         417855,
         "S102",
         "Y",
         "1972-02-13",
         "1976-08-23"
        ],
        [
         "SUBID1036",
         "Upasana",
         "Thakur",
         "Vasa Ganj",
         "1927-10-03",
         "Female",
         "NA",
         "India",
         "Ratlam",
         326733,
         "S108",
         "N",
         "1947-10-03",
         "1951-02-20"
        ],
        [
         "SUBID10059",
         "Gajabahu",
         "Singh",
         "Kara",
         "1959-03-15",
         "Male",
         "+91 1207869436",
         "India",
         "Udupi",
         637221,
         "S101",
         "Y",
         "1979-03-15",
         "1986-07-05"
        ],
        [
         "SUBID1067",
         "Kishan",
         "Rao",
         "Badal Nagar",
         "1923-05-12",
         "Male",
         "+91 9067652693",
         "India",
         "Srikakulam",
         703899,
         "S110",
         "Y",
         "1943-05-12",
         "1946-09-20"
        ],
        [
         "SUBID10040",
         "Anjushree",
         "Pandey",
         "Vora Ganj",
         "1976-07-04",
         "Male",
         "+91 5322869455",
         "India",
         "Ghaziabad",
         782221,
         "S105",
         "N",
         "1996-07-04",
         "1999-02-17"
        ],
        [
         "SUBID10007",
         "Aakar",
         "Yadav",
         "Swamy",
         "1925-03-05",
         "Female",
         "+91 2777633911",
         "India",
         "Bihar Sharif",
         535907,
         "S104",
         "N",
         "1945-03-05",
         "1946-11-07"
        ],
        [
         "SUBID1047",
         "NA",
         "Rai",
         "Sagar Chowk",
         "1931-02-04",
         "Male",
         "+91 2973105946",
         "India",
         "Shivpuri",
         794170,
         "S109",
         "Y",
         "1951-02-04",
         "1955-07-14"
        ]
       ],
       "datasetInfos": [],
       "dbfsResultPath": null,
       "isJsonSchema": true,
       "metadata": {},
       "overflow": false,
       "plotOptions": {
        "customPlotOptions": {},
        "displayType": "table",
        "pivotAggregation": null,
        "pivotColumns": null,
        "xColumns": null,
        "yColumns": null
       },
       "removedWidgets": [],
       "schema": [
        {
         "metadata": "{}",
         "name": "sub _id",
         "type": "\"string\""
        },
        {
         "metadata": "{}",
         "name": "first_name",
         "type": "\"string\""
        },
        {
         "metadata": "{}",
         "name": "last_name",
         "type": "\"string\""
        },
        {
         "metadata": "{}",
         "name": "Street",
         "type": "\"string\""
        },
        {
         "metadata": "{\"__detected_date_formats\":\"yyyy-M-d\"}",
         "name": "Birth_date",
         "type": "\"date\""
        },
        {
         "metadata": "{}",
         "name": "Gender",
         "type": "\"string\""
        },
        {
         "metadata": "{}",
         "name": "Phone",
         "type": "\"string\""
        },
        {
         "metadata": "{}",
         "name": "Country",
         "type": "\"string\""
        },
        {
         "metadata": "{}",
         "name": "City",
         "type": "\"string\""
        },
        {
         "metadata": "{}",
         "name": "Zip Code",
         "type": "\"integer\""
        },
        {
         "metadata": "{}",
         "name": "Subgrp_id",
         "type": "\"string\""
        },
        {
         "metadata": "{}",
         "name": "Elig_ind",
         "type": "\"string\""
        },
        {
         "metadata": "{\"__detected_date_formats\":\"yyyy-M-d\"}",
         "name": "eff_date",
         "type": "\"date\""
        },
        {
         "metadata": "{\"__detected_date_formats\":\"yyyy-M-d\"}",
         "name": "term_date",
         "type": "\"date\""
        }
       ],
       "type": "table"
      }
     },
     "output_type": "display_data"
    },
    {
     "output_type": "display_data",
     "data": {
      "text/html": [
       "<style scoped>\n",
       "  .table-result-container {\n",
       "    max-height: 300px;\n",
       "    overflow: auto;\n",
       "  }\n",
       "  table, th, td {\n",
       "    border: 1px solid black;\n",
       "    border-collapse: collapse;\n",
       "  }\n",
       "  th, td {\n",
       "    padding: 5px;\n",
       "  }\n",
       "  th {\n",
       "    text-align: left;\n",
       "  }\n",
       "</style><div class='table-result-container'><table class='table-result'><thead style='background-color: white'><tr><th>sub _id</th><th>first_name</th><th>last_name</th><th>Street</th><th>Birth_date</th><th>Gender</th><th>Phone</th><th>Country</th><th>City</th><th>Zip Code</th><th>Subgrp_id</th><th>Elig_ind</th><th>eff_date</th><th>term_date</th></tr></thead><tbody><tr><td>SUBID10046</td><td>Aayushmaan</td><td>Maurya</td><td>Johal Nagar</td><td>1983-11-14</td><td>Female</td><td>+91 4464709769</td><td>India</td><td>Mehsana</td><td>987281</td><td>S104</td><td>Y</td><td>2003-11-14</td><td>2012-10-22</td></tr><tr><td>SUBID10049</td><td>Paridhi</td><td>Yadav</td><td>Sant Path</td><td>1959-03-27</td><td>Female</td><td>+91 2139280879</td><td>India</td><td>Jabalpur</td><td>883754</td><td>NA</td><td>N</td><td>1979-03-27</td><td>1985-06-01</td></tr><tr><td>SUBID10012</td><td>Dharmadaas</td><td>Tiwari</td><td>Rama</td><td>1964-04-29</td><td>Male</td><td>+91 6345482027</td><td>India</td><td>Bhalswa Jahangir Pur</td><td>430793</td><td>S103</td><td>N</td><td>1984-04-29</td><td>1988-02-07</td></tr><tr><td>SUBID1065</td><td>Dipesh</td><td>Mishra</td><td>Char Path</td><td>1949-04-01</td><td>Female</td><td>+91 5851958964</td><td>India</td><td>Kochi</td><td>31269</td><td>S103</td><td>Y</td><td>1969-04-01</td><td>1970-06-02</td></tr><tr><td>SUBID10011</td><td>NA</td><td>Vishwakarma</td><td>Rajagopalan</td><td>1955-01-22</td><td>Female</td><td>+91 4146391938</td><td>India</td><td>Ghaziabad</td><td>337042</td><td>S106</td><td>N</td><td>1975-01-22</td><td>1978-11-02</td></tr><tr><td>SUBID10051</td><td>NA</td><td>Rajput</td><td>Chauhan Chowk</td><td>1946-10-17</td><td>Male</td><td>+91 9887324437</td><td>India</td><td>Baranagar</td><td>765234</td><td>S103</td><td>Y</td><td>1966-10-17</td><td>1969-06-26</td></tr><tr><td>SUBID1041</td><td>NA</td><td>Rajput</td><td>Sinha Path</td><td>1930-11-25</td><td>Female</td><td>NA</td><td>India</td><td>Agartala</td><td>303503</td><td>S110</td><td>Y</td><td>1950-11-25</td><td>1957-09-14</td></tr><tr><td>SUBID10075</td><td>NA</td><td>Singh</td><td>Iyengar Nagar</td><td>1956-01-29</td><td>Male</td><td>+91 6891482136</td><td>India</td><td>Navi Mumbai</td><td>836175</td><td>S107</td><td>N</td><td>1976-01-29</td><td>1979-05-25</td></tr><tr><td>SUBID1030</td><td>Upasana</td><td>Pandey</td><td>Seth Chowk</td><td>1956-06-01</td><td>Male</td><td>+91 0548234943</td><td>India</td><td>Hyderabad</td><td>234823</td><td>S102</td><td>N</td><td>1976-06-01</td><td>1981-02-14</td></tr><tr><td>SUBID10048</td><td>Chitranjan</td><td>Mishra</td><td>Madan Nagar</td><td>1925-09-09</td><td>Female</td><td>+91 5176024720</td><td>India</td><td>Morbi</td><td>945697</td><td>S108</td><td>N</td><td>1945-09-09</td><td>1952-06-21</td></tr><tr><td>SUBID10060</td><td>Jitesh</td><td>Vishwakarma</td><td>Gopal Path</td><td>1983-02-03</td><td>Male</td><td>+91 6515468035</td><td>India</td><td>Karimnagar</td><td>124564</td><td>S110</td><td>Y</td><td>2003-02-03</td><td>2008-04-30</td></tr><tr><td>SUBID10018</td><td>Bhagavaana</td><td>Kumar</td><td>Kulkarni Zila</td><td>1935-09-16</td><td>Female</td><td>+91 6071745855</td><td>India</td><td>Shahjahanpur</td><td>597276</td><td>S101</td><td>N</td><td>1955-09-16</td><td>1958-05-31</td></tr><tr><td>SUBID10056</td><td>Chanak</td><td>Gupta</td><td>Shetty Nagar</td><td>1954-08-27</td><td>Male</td><td>+91 5093121123</td><td>India</td><td>Jalandhar</td><td>602989</td><td>S105</td><td>N</td><td>1974-08-27</td><td>1982-06-15</td></tr><tr><td>SUBID10002</td><td>Ujjawal</td><td>Devi</td><td>Mammen Zila</td><td>1980-04-16</td><td>Male</td><td>+91 8547451606</td><td>India</td><td>Berhampur</td><td>914455</td><td>S106</td><td>N</td><td>2000-04-16</td><td>2008-05-04</td></tr><tr><td>SUBID10085</td><td>Sukanya</td><td>Sonkar</td><td>Sangha Street</td><td>1942-01-16</td><td>Female</td><td>+91 5689645499</td><td>India</td><td>Vijayanagaram</td><td>226215</td><td>S101</td><td>N</td><td>1962-01-16</td><td>1967-04-10</td></tr><tr><td>SUBID10081</td><td>Mansi</td><td>Divedi</td><td>Bhattacharyya Road</td><td>1947-03-20</td><td>Female</td><td>+91 1135113927</td><td>India</td><td>Hosur</td><td>995152</td><td>S105</td><td>Y</td><td>1967-03-20</td><td>1971-07-25</td></tr><tr><td>SUBID10009</td><td>NA</td><td>Gupta</td><td>Thakur Circle</td><td>1925-06-12</td><td>Male</td><td>+91 1780763280</td><td>India</td><td>Bangalore</td><td>957469</td><td>S105</td><td>Y</td><td>1945-06-12</td><td>1953-08-30</td></tr><tr><td>SUBID10031</td><td>Kanhaiya</td><td>Lal</td><td>Savant Nagar</td><td>1954-10-19</td><td>Female</td><td>+91 0788738026</td><td>India</td><td>Mysore</td><td>638433</td><td>S104</td><td>Y</td><td>1974-10-19</td><td>1977-01-03</td></tr><tr><td>SUBID10089</td><td>Dhuha</td><td>Tiwari</td><td>Aggarwal Street</td><td>1952-08-21</td><td>Male</td><td>+91 3188519840</td><td>India</td><td>Rampur</td><td>492137</td><td>S104</td><td>NA</td><td>1972-08-21</td><td>1981-05-13</td></tr><tr><td>SUBID1087</td><td>NA</td><td>Pandit</td><td>Srivastava Path</td><td>1924-12-10</td><td>Female</td><td>+91 9158965227</td><td>India</td><td>Sambhal</td><td>279219</td><td>S103</td><td>N</td><td>1944-12-10</td><td>1951-07-16</td></tr><tr><td>SUBID10079</td><td>Shahnawaz</td><td>Mishra</td><td>Agate Path</td><td>1971-06-24</td><td>Female</td><td>+91 4117017589</td><td>India</td><td>Rampur</td><td>528893</td><td>S102</td><td>Y</td><td>1991-06-24</td><td>2000-09-13</td></tr><tr><td>SUBID1020</td><td>Umang</td><td>Srivastav</td><td>Balay Chowk</td><td>1963-07-14</td><td>Female</td><td>+91 9485838770</td><td>India</td><td>Haridwar</td><td>181692</td><td>S109</td><td>Y</td><td>1983-07-14</td><td>1986-01-15</td></tr><tr><td>SUBID10023</td><td>Vaijayanti</td><td>Pratap</td><td>Khalsa Nagar</td><td>1920-11-13</td><td>Male</td><td>+91 9358851649</td><td>India</td><td>Mira-Bhayandar</td><td>419190</td><td>S102</td><td>Y</td><td>1940-11-13</td><td>1946-03-10</td></tr><tr><td>SUBID10053</td><td>NA</td><td>Sonkar</td><td>Shetty Marg</td><td>1988-06-27</td><td>Male</td><td>+91 6877897646</td><td>India</td><td>Pali</td><td>383290</td><td>S102</td><td>Y</td><td>2008-06-27</td><td>2016-10-30</td></tr><tr><td>SUBID10092</td><td>NA</td><td>Rai</td><td>Karan Street</td><td>1940-08-22</td><td>Others</td><td>+91 7498206646</td><td>India</td><td>Ghaziabad</td><td>79586</td><td>S108</td><td>N</td><td>1960-08-22</td><td>1966-10-06</td></tr><tr><td>SUBID10070</td><td>Balaaditya</td><td>Gupta</td><td>Varty Road</td><td>1923-11-02</td><td>Male</td><td>+91 3871269153</td><td>India</td><td>Hajipur</td><td>3526</td><td>S109</td><td>N</td><td>1943-11-02</td><td>1952-09-24</td></tr><tr><td>SUBID1010</td><td>NA</td><td>Divedi</td><td>Dhillon</td><td>1976-02-03</td><td>Male</td><td>+91 5586075345</td><td>India</td><td>Rajkot</td><td>911319</td><td>S102</td><td>Y</td><td>1996-02-03</td><td>2002-01-27</td></tr><tr><td>SUBID10082</td><td>Girika</td><td>Thakur</td><td>Sinha Zila</td><td>1968-11-03</td><td>Female</td><td>+91 5601148700</td><td>India</td><td>Hospet</td><td>683614</td><td>S102</td><td>N</td><td>1988-11-03</td><td>1992-01-21</td></tr><tr><td>SUBID1043</td><td>Saroj</td><td>Pandit</td><td>Sathe Zila</td><td>1942-08-26</td><td>Female</td><td>+91 5690408243</td><td>India</td><td>Muzaffarpur</td><td>130486</td><td>S103</td><td>Y</td><td>1962-08-26</td><td>1964-08-29</td></tr><tr><td>SUBID1034</td><td>Gopal</td><td>Das</td><td>Saini</td><td>1986-05-14</td><td>Male</td><td>+91 1181471524</td><td>India</td><td>Raebareli</td><td>176221</td><td>S101</td><td>N</td><td>2006-05-14</td><td>2011-04-08</td></tr><tr><td>SUBID10025</td><td>NA</td><td>Tiwari</td><td>Sha Chowk</td><td>1955-12-24</td><td>Male</td><td>+91 2416747182</td><td>India</td><td>Karimnagar</td><td>567762</td><td>S106</td><td>N</td><td>1975-12-24</td><td>1983-02-03</td></tr><tr><td>SUBID1044</td><td>Ayushmati</td><td>Vishwakarma</td><td>Balakrishnan Street</td><td>1932-09-20</td><td>Male</td><td>+91 3683223970</td><td>India</td><td>Satna</td><td>131247</td><td>S108</td><td>N</td><td>1952-09-20</td><td>1961-01-24</td></tr><tr><td>SUBID10054</td><td>Shivakari</td><td>Pratap</td><td>Dugar Road</td><td>1944-11-02</td><td>Female</td><td>+91 3740484063</td><td>India</td><td>Hapur</td><td>28202</td><td>S104</td><td>N</td><td>1964-11-02</td><td>1967-06-15</td></tr><tr><td>SUBID10061</td><td>NA</td><td>Rajput</td><td>Anand Path</td><td>1966-09-25</td><td>Female</td><td>+91 6477918745</td><td>India</td><td>Kharagpur</td><td>934938</td><td>S103</td><td>NA</td><td>1986-09-25</td><td>1991-06-03</td></tr><tr><td>SUBID10052</td><td>Laksman</td><td>Rao</td><td>Sood Marg</td><td>1939-05-26</td><td>Female</td><td>+91 4504120828</td><td>India</td><td>Ahmednagar</td><td>117923</td><td>S101</td><td>Y</td><td>1959-05-26</td><td>1960-11-07</td></tr><tr><td>SUBID10071</td><td>NA</td><td>Rai</td><td>Choudhury Chowk</td><td>1941-12-26</td><td>Female</td><td>+91 9287216619</td><td>India</td><td>Vellore</td><td>239532</td><td>S101</td><td>N</td><td>1961-12-26</td><td>1969-02-23</td></tr><tr><td>SUBID10000</td><td>Harbir</td><td>Vishwakarma</td><td>Baria Marg</td><td>1924-06-30</td><td>Female</td><td>+91 0112009318</td><td>India</td><td>Rourkela</td><td>767058</td><td>S107</td><td>Y</td><td>1944-06-30</td><td>1954-01-14</td></tr><tr><td>SUBID10096</td><td>Chanak</td><td>Sonkar</td><td>Kaur</td><td>1959-04-07</td><td>Others</td><td>+91 7284540687</td><td>India</td><td>Raurkela Industrial Township</td><td>899590</td><td>S101</td><td>Y</td><td>1979-04-07</td><td>1986-03-07</td></tr><tr><td>SUBID10094</td><td>Charanpal</td><td>Yadav</td><td>Sehgal Circle</td><td>1986-10-12</td><td>Male</td><td>+91 2196055115</td><td>India</td><td>Gurgaon</td><td>640326</td><td>S109</td><td>Y</td><td>2006-10-12</td><td>2016-05-13</td></tr><tr><td>SUBID10014</td><td>NA</td><td>Srivastav</td><td>Chandra Path</td><td>1981-01-25</td><td>Female</td><td>+91 2960004518</td><td>India</td><td>Surendranagar Dudhrej</td><td>111966</td><td>S102</td><td>N</td><td>2001-01-25</td><td>2005-07-13</td></tr><tr><td>SUBID1045</td><td>Drashti</td><td>Divedi</td><td>Wadhwa</td><td>1926-07-03</td><td>Male</td><td>+91 9447269993</td><td>India</td><td>Saharsa</td><td>581568</td><td>S104</td><td>Y</td><td>1946-07-03</td><td>1952-11-27</td></tr><tr><td>SUBID10028</td><td>Pushti</td><td>Pandit</td><td>Deol Path</td><td>1935-10-15</td><td>Female</td><td>+91 7093722203</td><td>India</td><td>Morbi</td><td>284168</td><td>S106</td><td>N</td><td>1955-10-15</td><td>1959-06-04</td></tr><tr><td>SUBID1073</td><td>Virender</td><td>Maurrya</td><td>Chakrabarti</td><td>1936-10-27</td><td>Male</td><td>+91 7734026802</td><td>India</td><td>Bhusawal</td><td>374302</td><td>S104</td><td>N</td><td>1956-10-27</td><td>1961-04-27</td></tr><tr><td>SUBID10035</td><td>Dheeman</td><td>Tiwari</td><td>Dube Marg</td><td>1945-05-04</td><td>Male</td><td>+91 8239321466</td><td>India</td><td>Mysore</td><td>811970</td><td>S101</td><td>Y</td><td>1965-05-04</td><td>1973-11-13</td></tr><tr><td>SUBID1086</td><td>Banita</td><td>Rao</td><td>Thakur</td><td>1979-01-28</td><td>Male</td><td>+91 4743834161</td><td>India</td><td>Ghaziabad</td><td>907613</td><td>S109</td><td>N</td><td>1999-01-28</td><td>2000-09-05</td></tr><tr><td>SUBID10088</td><td>NA</td><td>Rajput</td><td>Dua Zila</td><td>1922-07-30</td><td>Female</td><td>+91 9523946101</td><td>India</td><td>Tadipatri</td><td>743449</td><td>S110</td><td>N</td><td>1942-07-30</td><td>1949-06-07</td></tr><tr><td>SUBID10016</td><td>Amritkala</td><td>Srivastav</td><td>Guha Path</td><td>1933-11-20</td><td>Female</td><td>+91 0537157280</td><td>India</td><td>Meerut</td><td>863467</td><td>S106</td><td>Y</td><td>1953-11-20</td><td>1955-07-29</td></tr><tr><td>SUBID10057</td><td>Chittesh</td><td>Pandey</td><td>Mangal Chowk</td><td>1949-10-17</td><td>Male</td><td>+91 1378163498</td><td>India</td><td>Thoothukudi</td><td>666415</td><td>S109</td><td>Y</td><td>1969-10-17</td><td>1975-10-08</td></tr><tr><td>SUBID1021</td><td>Darsana</td><td>Yadav</td><td>Upadhyay Zila</td><td>1932-05-29</td><td>Male</td><td>+91 7676311811</td><td>India</td><td>Dibrugarh</td><td>187414</td><td>S109</td><td>Y</td><td>1952-05-29</td><td>1953-10-14</td></tr><tr><td>SUBID10003</td><td>Ballari</td><td>Mishra</td><td>Sahni Zila</td><td>1969-09-25</td><td>Female</td><td>+91 0106026841</td><td>India</td><td>Bihar Sharif</td><td>91481</td><td>S104</td><td>N</td><td>1989-09-25</td><td>1995-06-05</td></tr><tr><td>SUBID10069</td><td>Bhageeratha</td><td>Srivastav</td><td>Das Ganj</td><td>1973-03-21</td><td>Male</td><td>+91 0590662722</td><td>India</td><td>Sonipat</td><td>695316</td><td>S103</td><td>Y</td><td>1993-03-21</td><td>1997-08-01</td></tr><tr><td>SUBID10084</td><td>NA</td><td>Thakur</td><td>Raval Zila</td><td>1924-06-07</td><td>Female</td><td>+91 7367059254</td><td>India</td><td>Bhavnagar</td><td>464111</td><td>S107</td><td>Y</td><td>1944-06-07</td><td>1952-05-22</td></tr><tr><td>SUBID10005</td><td>Atasi</td><td>Seth</td><td>Khatri Nagar</td><td>1967-10-02</td><td>Male</td><td>+91 9747336855</td><td>India</td><td>Amravati</td><td>229062</td><td>S104</td><td>Y</td><td>1987-10-02</td><td>1995-02-13</td></tr><tr><td>SUBID10077</td><td>Girija</td><td>Maurrya</td><td>Iyengar Road</td><td>1933-04-25</td><td>Male</td><td>+91 1811765039</td><td>India</td><td>Jaipur</td><td>204379</td><td>S105</td><td>N</td><td>1953-04-25</td><td>1963-04-18</td></tr><tr><td>SUBID10015</td><td>Bhagvan</td><td>Srivastav</td><td>Edwin</td><td>1966-07-24</td><td>Female</td><td>+91 0297693485</td><td>India</td><td>Bhimavaram</td><td>436513</td><td>S105</td><td>Y</td><td>1986-07-24</td><td>1988-02-04</td></tr><tr><td>SUBID10076</td><td>Mamta</td><td>Tiwari</td><td>Batra</td><td>1964-12-21</td><td>Female</td><td>+91 5559521919</td><td>India</td><td>Secunderabad</td><td>123181</td><td>S104</td><td>N</td><td>1984-12-21</td><td>1987-01-08</td></tr><tr><td>SUBID10019</td><td>NA</td><td>Maurya</td><td>Sharaf Nagar</td><td>1924-11-09</td><td>Female</td><td>+91 8906694405</td><td>India</td><td>Jabalpur</td><td>958538</td><td>S104</td><td>N</td><td>1944-11-09</td><td>1951-10-14</td></tr><tr><td>SUBID1091</td><td>NA</td><td>Thakur</td><td>Bala</td><td>1930-12-31</td><td>Male</td><td>+91 9664169480</td><td>India</td><td>Kamarhati</td><td>682652</td><td>S110</td><td>Y</td><td>1950-12-31</td><td>1958-06-21</td></tr><tr><td>SUBID10090</td><td>NA</td><td>Mishra</td><td>Chandran Nagar</td><td>1938-06-07</td><td>Female</td><td>+91 6869721169</td><td>India</td><td>Sikar</td><td>564747</td><td>S101</td><td>Y</td><td>1958-06-07</td><td>1967-08-23</td></tr><tr><td>SUBID10022</td><td>Prakash</td><td>Rao</td><td>Sachar</td><td>1923-09-15</td><td>Female</td><td>+91 9268324471</td><td>India</td><td>Kottayam</td><td>180680</td><td>NA</td><td>N</td><td>1943-09-15</td><td>1948-10-19</td></tr><tr><td>SUBID10039</td><td>Madhubala</td><td>Yadav</td><td>Sangha Marg</td><td>1937-01-11</td><td>Male</td><td>+91 8498685882</td><td>India</td><td>Jaunpur</td><td>624102</td><td>S104</td><td>Y</td><td>1957-01-11</td><td>1965-10-09</td></tr><tr><td>SUBID10055</td><td>Madhu</td><td>Thakur</td><td>Sule Marg</td><td>1984-10-23</td><td>Male</td><td>+91 8367885507</td><td>India</td><td>Udaipur</td><td>565423</td><td>S107</td><td>N</td><td>2004-10-23</td><td>2008-07-10</td></tr><tr><td>SUBID10080</td><td>Tej</td><td>Sonkar</td><td>Sarraf Chowk</td><td>1942-06-11</td><td>Male</td><td>+91 3450311029</td><td>India</td><td>Haridwar</td><td>506221</td><td>S105</td><td>Y</td><td>1962-06-11</td><td>1964-10-14</td></tr><tr><td>SUBID1098</td><td>Pushkar</td><td>Kumar</td><td>Sodhi Zila</td><td>1934-10-05</td><td>Others</td><td>+91 8956368286</td><td>India</td><td>Korba</td><td>910732</td><td>S107</td><td>Y</td><td>1954-10-05</td><td>1961-04-05</td></tr><tr><td>SUBID1032</td><td>NA</td><td>Seth</td><td>Sandhu Chowk</td><td>1968-07-02</td><td>Female</td><td>+91 2599794460</td><td>India</td><td>Gwalior</td><td>611826</td><td>S110</td><td>N</td><td>1988-07-02</td><td>1991-03-14</td></tr><tr><td>SUBID10026</td><td>Ekant</td><td>Sonkar</td><td>Walla Road</td><td>1943-08-13</td><td>Male</td><td>+91 7686951174</td><td>India</td><td>Berhampore</td><td>948589</td><td>S110</td><td>Y</td><td>1963-08-13</td><td>1967-05-29</td></tr><tr><td>SUBID1062</td><td>Lalit</td><td>Mishra</td><td>Comar Street</td><td>1924-02-15</td><td>Female</td><td>+91 4647833992</td><td>India</td><td>Tinsukia</td><td>963770</td><td>S103</td><td>N</td><td>1944-02-15</td><td>1947-09-28</td></tr><tr><td>SUBID10095</td><td>Ekaaksh</td><td>Rai</td><td>Bansal Ganj</td><td>1933-12-02</td><td>Others</td><td>NA</td><td>India</td><td>Pimpri-Chinchwad</td><td>158186</td><td>S107</td><td>N</td><td>1953-12-02</td><td>1960-07-29</td></tr><tr><td>SUBID10097</td><td>NA</td><td>Sonkar</td><td>Rana Ganj</td><td>1940-02-04</td><td>Others</td><td>+91 8908240160</td><td>India</td><td>Mira-Bhayandar</td><td>896586</td><td>S107</td><td>Y</td><td>1960-02-04</td><td>1965-01-12</td></tr><tr><td>SUBID10027</td><td>Chancharik</td><td>Pandey</td><td>Karan Ganj</td><td>1983-09-05</td><td>Male</td><td>+91 5309364825</td><td>India</td><td>Chapra</td><td>154667</td><td>S109</td><td>N</td><td>2003-09-05</td><td>2011-06-12</td></tr><tr><td>SUBID10001</td><td>Brahmdev</td><td>Sonkar</td><td>Lala Marg</td><td>1948-12-20</td><td>Female</td><td>+91 1727749552</td><td>India</td><td>Tiruvottiyur</td><td>34639</td><td>S105</td><td>Y</td><td>1968-12-20</td><td>1970-05-16</td></tr><tr><td>SUBID10042</td><td>Chakrika</td><td>Sonkar</td><td>Bansal Circle</td><td>1964-08-05</td><td>Male</td><td>+91 8185162879</td><td>India</td><td>Ranchi</td><td>503290</td><td>S108</td><td>Y</td><td>1984-08-05</td><td>1992-09-09</td></tr><tr><td>SUBID10008</td><td>Gurudas</td><td>Gupta</td><td>Sarin Nagar</td><td>1945-05-06</td><td>Male</td><td>+91 1232859381</td><td>India</td><td>Kamarhati</td><td>933226</td><td>S103</td><td>Y</td><td>1965-05-06</td><td>1970-09-16</td></tr><tr><td>SUBID10004</td><td>Devnath</td><td>Srivastav</td><td>Magar Zila</td><td>1946-05-01</td><td>Female</td><td>+91 1868774631</td><td>India</td><td>Bidhannagar</td><td>531742</td><td>S110</td><td>N</td><td>1966-05-01</td><td>1970-12-09</td></tr><tr><td>SUBID1006</td><td>Manish</td><td>Maurya</td><td>Swaminathan Chowk</td><td>1967-06-06</td><td>Male</td><td>+91 4354294043</td><td>India</td><td>Panvel</td><td>438733</td><td>S109</td><td>NA</td><td>1987-06-06</td><td>1995-03-21</td></tr><tr><td>SUBID10072</td><td>Gopal</td><td>Srivastav</td><td>Desai Street</td><td>1936-03-11</td><td>Female</td><td>+91 3791210190</td><td>India</td><td>Bidhannagar</td><td>761800</td><td>S103</td><td>Y</td><td>1956-03-11</td><td>1964-07-28</td></tr><tr><td>SUBID10029</td><td>Swati</td><td>Seth</td><td>Kant Marg</td><td>1987-12-11</td><td>Female</td><td>+91 1028477510</td><td>India</td><td>Amravati</td><td>932221</td><td>S102</td><td>N</td><td>2007-12-11</td><td>2011-10-17</td></tr><tr><td>SUBID10068</td><td>NA</td><td>Mishra</td><td>Bath Nagar</td><td>1927-02-26</td><td>Female</td><td>+91 4984346995</td><td>India</td><td>Ambarnath</td><td>766224</td><td>S110</td><td>N</td><td>1947-02-26</td><td>1948-03-30</td></tr><tr><td>SUBID10066</td><td>NA</td><td>Seth</td><td>Chaudhuri Marg</td><td>1930-09-01</td><td>Male</td><td>+91 7061843400</td><td>India</td><td>Kolhapur</td><td>597470</td><td>S102</td><td>N</td><td>1950-09-01</td><td>1957-12-01</td></tr><tr><td>SUBID10024</td><td>Menakshi</td><td>Seth</td><td>Wable Street</td><td>1987-03-06</td><td>Male</td><td>+91 0531676556</td><td>India</td><td>Kamarhati</td><td>882577</td><td>S107</td><td>N</td><td>2007-03-06</td><td>2014-02-25</td></tr><tr><td>SUBID10074</td><td>NA</td><td>Singh</td><td>Kalla Path</td><td>1963-11-21</td><td>Male</td><td>+91 7881749363</td><td>India</td><td>Bokaro</td><td>866319</td><td>S105</td><td>Y</td><td>1983-11-21</td><td>1985-09-29</td></tr><tr><td>SUBID1037</td><td>NA</td><td>Rajput</td><td>Shere Chowk</td><td>1948-11-10</td><td>Male</td><td>+91 8390195092</td><td>India</td><td>Vadodara</td><td>877443</td><td>S101</td><td>Y</td><td>1968-11-10</td><td>1973-12-25</td></tr><tr><td>SUBID1058</td><td>Nawal</td><td>Rajput</td><td>Deol Nagar</td><td>1940-01-22</td><td>Male</td><td>+91 1885105576</td><td>India</td><td>Bhopal</td><td>791168</td><td>S106</td><td>N</td><td>1960-01-22</td><td>1969-04-18</td></tr><tr><td>SUBID1038</td><td>NA</td><td>Thakur</td><td>Rastogi Street</td><td>1955-04-07</td><td>Female</td><td>+91 7434031446</td><td>India</td><td>Vijayawada</td><td>438940</td><td>S104</td><td>NA</td><td>1975-04-07</td><td>1982-01-25</td></tr><tr><td>SUBID10099</td><td>Shikha</td><td>Srivastav</td><td>Ahuja Road</td><td>1970-09-06</td><td>Others</td><td>+91 3042509956</td><td>India</td><td>Nanded</td><td>101500</td><td>S109</td><td>Y</td><td>1990-09-06</td><td>1997-11-27</td></tr><tr><td>SUBID10078</td><td>Aaraadhana</td><td>Rao</td><td>Raval Nagar</td><td>1980-02-07</td><td>Male</td><td>+91 2432610572</td><td>India</td><td>Jhansi</td><td>429941</td><td>S108</td><td>N</td><td>2000-02-07</td><td>2005-02-06</td></tr><tr><td>SUBID10050</td><td>Deependu</td><td>Gupta</td><td>Banik Ganj</td><td>1952-02-13</td><td>Female</td><td>+91 5674176644</td><td>India</td><td>Bareilly</td><td>417855</td><td>S102</td><td>Y</td><td>1972-02-13</td><td>1976-08-23</td></tr><tr><td>SUBID1036</td><td>Upasana</td><td>Thakur</td><td>Vasa Ganj</td><td>1927-10-03</td><td>Female</td><td>NA</td><td>India</td><td>Ratlam</td><td>326733</td><td>S108</td><td>N</td><td>1947-10-03</td><td>1951-02-20</td></tr><tr><td>SUBID10059</td><td>Gajabahu</td><td>Singh</td><td>Kara</td><td>1959-03-15</td><td>Male</td><td>+91 1207869436</td><td>India</td><td>Udupi</td><td>637221</td><td>S101</td><td>Y</td><td>1979-03-15</td><td>1986-07-05</td></tr><tr><td>SUBID1067</td><td>Kishan</td><td>Rao</td><td>Badal Nagar</td><td>1923-05-12</td><td>Male</td><td>+91 9067652693</td><td>India</td><td>Srikakulam</td><td>703899</td><td>S110</td><td>Y</td><td>1943-05-12</td><td>1946-09-20</td></tr><tr><td>SUBID10040</td><td>Anjushree</td><td>Pandey</td><td>Vora Ganj</td><td>1976-07-04</td><td>Male</td><td>+91 5322869455</td><td>India</td><td>Ghaziabad</td><td>782221</td><td>S105</td><td>N</td><td>1996-07-04</td><td>1999-02-17</td></tr><tr><td>SUBID10007</td><td>Aakar</td><td>Yadav</td><td>Swamy</td><td>1925-03-05</td><td>Female</td><td>+91 2777633911</td><td>India</td><td>Bihar Sharif</td><td>535907</td><td>S104</td><td>N</td><td>1945-03-05</td><td>1946-11-07</td></tr><tr><td>SUBID1047</td><td>NA</td><td>Rai</td><td>Sagar Chowk</td><td>1931-02-04</td><td>Male</td><td>+91 2973105946</td><td>India</td><td>Shivpuri</td><td>794170</td><td>S109</td><td>Y</td><td>1951-02-04</td><td>1955-07-14</td></tr></tbody></table></div>"
      ]
     },
     "metadata": {
      "application/vnd.databricks.v1+output": {
       "addedWidgets": {},
       "aggData": [],
       "aggError": "",
       "aggOverflow": false,
       "aggSchema": [],
       "aggSeriesLimitReached": false,
       "aggType": "",
       "arguments": {},
       "columnCustomDisplayInfos": {},
       "data": [
        [
         "SUBID10046",
         "Aayushmaan",
         "Maurya",
         "Johal Nagar",
         "1983-11-14",
         "Female",
         "+91 4464709769",
         "India",
         "Mehsana",
         987281,
         "S104",
         "Y",
         "2003-11-14",
         "2012-10-22"
        ],
        [
         "SUBID10049",
         "Paridhi",
         "Yadav",
         "Sant Path",
         "1959-03-27",
         "Female",
         "+91 2139280879",
         "India",
         "Jabalpur",
         883754,
         "NA",
         "N",
         "1979-03-27",
         "1985-06-01"
        ],
        [
         "SUBID10012",
         "Dharmadaas",
         "Tiwari",
         "Rama",
         "1964-04-29",
         "Male",
         "+91 6345482027",
         "India",
         "Bhalswa Jahangir Pur",
         430793,
         "S103",
         "N",
         "1984-04-29",
         "1988-02-07"
        ],
        [
         "SUBID1065",
         "Dipesh",
         "Mishra",
         "Char Path",
         "1949-04-01",
         "Female",
         "+91 5851958964",
         "India",
         "Kochi",
         31269,
         "S103",
         "Y",
         "1969-04-01",
         "1970-06-02"
        ],
        [
         "SUBID10011",
         "NA",
         "Vishwakarma",
         "Rajagopalan",
         "1955-01-22",
         "Female",
         "+91 4146391938",
         "India",
         "Ghaziabad",
         337042,
         "S106",
         "N",
         "1975-01-22",
         "1978-11-02"
        ],
        [
         "SUBID10051",
         "NA",
         "Rajput",
         "Chauhan Chowk",
         "1946-10-17",
         "Male",
         "+91 9887324437",
         "India",
         "Baranagar",
         765234,
         "S103",
         "Y",
         "1966-10-17",
         "1969-06-26"
        ],
        [
         "SUBID1041",
         "NA",
         "Rajput",
         "Sinha Path",
         "1930-11-25",
         "Female",
         "NA",
         "India",
         "Agartala",
         303503,
         "S110",
         "Y",
         "1950-11-25",
         "1957-09-14"
        ],
        [
         "SUBID10075",
         "NA",
         "Singh",
         "Iyengar Nagar",
         "1956-01-29",
         "Male",
         "+91 6891482136",
         "India",
         "Navi Mumbai",
         836175,
         "S107",
         "N",
         "1976-01-29",
         "1979-05-25"
        ],
        [
         "SUBID1030",
         "Upasana",
         "Pandey",
         "Seth Chowk",
         "1956-06-01",
         "Male",
         "+91 0548234943",
         "India",
         "Hyderabad",
         234823,
         "S102",
         "N",
         "1976-06-01",
         "1981-02-14"
        ],
        [
         "SUBID10048",
         "Chitranjan",
         "Mishra",
         "Madan Nagar",
         "1925-09-09",
         "Female",
         "+91 5176024720",
         "India",
         "Morbi",
         945697,
         "S108",
         "N",
         "1945-09-09",
         "1952-06-21"
        ],
        [
         "SUBID10060",
         "Jitesh",
         "Vishwakarma",
         "Gopal Path",
         "1983-02-03",
         "Male",
         "+91 6515468035",
         "India",
         "Karimnagar",
         124564,
         "S110",
         "Y",
         "2003-02-03",
         "2008-04-30"
        ],
        [
         "SUBID10018",
         "Bhagavaana",
         "Kumar",
         "Kulkarni Zila",
         "1935-09-16",
         "Female",
         "+91 6071745855",
         "India",
         "Shahjahanpur",
         597276,
         "S101",
         "N",
         "1955-09-16",
         "1958-05-31"
        ],
        [
         "SUBID10056",
         "Chanak",
         "Gupta",
         "Shetty Nagar",
         "1954-08-27",
         "Male",
         "+91 5093121123",
         "India",
         "Jalandhar",
         602989,
         "S105",
         "N",
         "1974-08-27",
         "1982-06-15"
        ],
        [
         "SUBID10002",
         "Ujjawal",
         "Devi",
         "Mammen Zila",
         "1980-04-16",
         "Male",
         "+91 8547451606",
         "India",
         "Berhampur",
         914455,
         "S106",
         "N",
         "2000-04-16",
         "2008-05-04"
        ],
        [
         "SUBID10085",
         "Sukanya",
         "Sonkar",
         "Sangha Street",
         "1942-01-16",
         "Female",
         "+91 5689645499",
         "India",
         "Vijayanagaram",
         226215,
         "S101",
         "N",
         "1962-01-16",
         "1967-04-10"
        ],
        [
         "SUBID10081",
         "Mansi",
         "Divedi",
         "Bhattacharyya Road",
         "1947-03-20",
         "Female",
         "+91 1135113927",
         "India",
         "Hosur",
         995152,
         "S105",
         "Y",
         "1967-03-20",
         "1971-07-25"
        ],
        [
         "SUBID10009",
         "NA",
         "Gupta",
         "Thakur Circle",
         "1925-06-12",
         "Male",
         "+91 1780763280",
         "India",
         "Bangalore",
         957469,
         "S105",
         "Y",
         "1945-06-12",
         "1953-08-30"
        ],
        [
         "SUBID10031",
         "Kanhaiya",
         "Lal",
         "Savant Nagar",
         "1954-10-19",
         "Female",
         "+91 0788738026",
         "India",
         "Mysore",
         638433,
         "S104",
         "Y",
         "1974-10-19",
         "1977-01-03"
        ],
        [
         "SUBID10089",
         "Dhuha",
         "Tiwari",
         "Aggarwal Street",
         "1952-08-21",
         "Male",
         "+91 3188519840",
         "India",
         "Rampur",
         492137,
         "S104",
         "NA",
         "1972-08-21",
         "1981-05-13"
        ],
        [
         "SUBID1087",
         "NA",
         "Pandit",
         "Srivastava Path",
         "1924-12-10",
         "Female",
         "+91 9158965227",
         "India",
         "Sambhal",
         279219,
         "S103",
         "N",
         "1944-12-10",
         "1951-07-16"
        ],
        [
         "SUBID10079",
         "Shahnawaz",
         "Mishra",
         "Agate Path",
         "1971-06-24",
         "Female",
         "+91 4117017589",
         "India",
         "Rampur",
         528893,
         "S102",
         "Y",
         "1991-06-24",
         "2000-09-13"
        ],
        [
         "SUBID1020",
         "Umang",
         "Srivastav",
         "Balay Chowk",
         "1963-07-14",
         "Female",
         "+91 9485838770",
         "India",
         "Haridwar",
         181692,
         "S109",
         "Y",
         "1983-07-14",
         "1986-01-15"
        ],
        [
         "SUBID10023",
         "Vaijayanti",
         "Pratap",
         "Khalsa Nagar",
         "1920-11-13",
         "Male",
         "+91 9358851649",
         "India",
         "Mira-Bhayandar",
         419190,
         "S102",
         "Y",
         "1940-11-13",
         "1946-03-10"
        ],
        [
         "SUBID10053",
         "NA",
         "Sonkar",
         "Shetty Marg",
         "1988-06-27",
         "Male",
         "+91 6877897646",
         "India",
         "Pali",
         383290,
         "S102",
         "Y",
         "2008-06-27",
         "2016-10-30"
        ],
        [
         "SUBID10092",
         "NA",
         "Rai",
         "Karan Street",
         "1940-08-22",
         "Others",
         "+91 7498206646",
         "India",
         "Ghaziabad",
         79586,
         "S108",
         "N",
         "1960-08-22",
         "1966-10-06"
        ],
        [
         "SUBID10070",
         "Balaaditya",
         "Gupta",
         "Varty Road",
         "1923-11-02",
         "Male",
         "+91 3871269153",
         "India",
         "Hajipur",
         3526,
         "S109",
         "N",
         "1943-11-02",
         "1952-09-24"
        ],
        [
         "SUBID1010",
         "NA",
         "Divedi",
         "Dhillon",
         "1976-02-03",
         "Male",
         "+91 5586075345",
         "India",
         "Rajkot",
         911319,
         "S102",
         "Y",
         "1996-02-03",
         "2002-01-27"
        ],
        [
         "SUBID10082",
         "Girika",
         "Thakur",
         "Sinha Zila",
         "1968-11-03",
         "Female",
         "+91 5601148700",
         "India",
         "Hospet",
         683614,
         "S102",
         "N",
         "1988-11-03",
         "1992-01-21"
        ],
        [
         "SUBID1043",
         "Saroj",
         "Pandit",
         "Sathe Zila",
         "1942-08-26",
         "Female",
         "+91 5690408243",
         "India",
         "Muzaffarpur",
         130486,
         "S103",
         "Y",
         "1962-08-26",
         "1964-08-29"
        ],
        [
         "SUBID1034",
         "Gopal",
         "Das",
         "Saini",
         "1986-05-14",
         "Male",
         "+91 1181471524",
         "India",
         "Raebareli",
         176221,
         "S101",
         "N",
         "2006-05-14",
         "2011-04-08"
        ],
        [
         "SUBID10025",
         "NA",
         "Tiwari",
         "Sha Chowk",
         "1955-12-24",
         "Male",
         "+91 2416747182",
         "India",
         "Karimnagar",
         567762,
         "S106",
         "N",
         "1975-12-24",
         "1983-02-03"
        ],
        [
         "SUBID1044",
         "Ayushmati",
         "Vishwakarma",
         "Balakrishnan Street",
         "1932-09-20",
         "Male",
         "+91 3683223970",
         "India",
         "Satna",
         131247,
         "S108",
         "N",
         "1952-09-20",
         "1961-01-24"
        ],
        [
         "SUBID10054",
         "Shivakari",
         "Pratap",
         "Dugar Road",
         "1944-11-02",
         "Female",
         "+91 3740484063",
         "India",
         "Hapur",
         28202,
         "S104",
         "N",
         "1964-11-02",
         "1967-06-15"
        ],
        [
         "SUBID10061",
         "NA",
         "Rajput",
         "Anand Path",
         "1966-09-25",
         "Female",
         "+91 6477918745",
         "India",
         "Kharagpur",
         934938,
         "S103",
         "NA",
         "1986-09-25",
         "1991-06-03"
        ],
        [
         "SUBID10052",
         "Laksman",
         "Rao",
         "Sood Marg",
         "1939-05-26",
         "Female",
         "+91 4504120828",
         "India",
         "Ahmednagar",
         117923,
         "S101",
         "Y",
         "1959-05-26",
         "1960-11-07"
        ],
        [
         "SUBID10071",
         "NA",
         "Rai",
         "Choudhury Chowk",
         "1941-12-26",
         "Female",
         "+91 9287216619",
         "India",
         "Vellore",
         239532,
         "S101",
         "N",
         "1961-12-26",
         "1969-02-23"
        ],
        [
         "SUBID10000",
         "Harbir",
         "Vishwakarma",
         "Baria Marg",
         "1924-06-30",
         "Female",
         "+91 0112009318",
         "India",
         "Rourkela",
         767058,
         "S107",
         "Y",
         "1944-06-30",
         "1954-01-14"
        ],
        [
         "SUBID10096",
         "Chanak",
         "Sonkar",
         "Kaur",
         "1959-04-07",
         "Others",
         "+91 7284540687",
         "India",
         "Raurkela Industrial Township",
         899590,
         "S101",
         "Y",
         "1979-04-07",
         "1986-03-07"
        ],
        [
         "SUBID10094",
         "Charanpal",
         "Yadav",
         "Sehgal Circle",
         "1986-10-12",
         "Male",
         "+91 2196055115",
         "India",
         "Gurgaon",
         640326,
         "S109",
         "Y",
         "2006-10-12",
         "2016-05-13"
        ],
        [
         "SUBID10014",
         "NA",
         "Srivastav",
         "Chandra Path",
         "1981-01-25",
         "Female",
         "+91 2960004518",
         "India",
         "Surendranagar Dudhrej",
         111966,
         "S102",
         "N",
         "2001-01-25",
         "2005-07-13"
        ],
        [
         "SUBID1045",
         "Drashti",
         "Divedi",
         "Wadhwa",
         "1926-07-03",
         "Male",
         "+91 9447269993",
         "India",
         "Saharsa",
         581568,
         "S104",
         "Y",
         "1946-07-03",
         "1952-11-27"
        ],
        [
         "SUBID10028",
         "Pushti",
         "Pandit",
         "Deol Path",
         "1935-10-15",
         "Female",
         "+91 7093722203",
         "India",
         "Morbi",
         284168,
         "S106",
         "N",
         "1955-10-15",
         "1959-06-04"
        ],
        [
         "SUBID1073",
         "Virender",
         "Maurrya",
         "Chakrabarti",
         "1936-10-27",
         "Male",
         "+91 7734026802",
         "India",
         "Bhusawal",
         374302,
         "S104",
         "N",
         "1956-10-27",
         "1961-04-27"
        ],
        [
         "SUBID10035",
         "Dheeman",
         "Tiwari",
         "Dube Marg",
         "1945-05-04",
         "Male",
         "+91 8239321466",
         "India",
         "Mysore",
         811970,
         "S101",
         "Y",
         "1965-05-04",
         "1973-11-13"
        ],
        [
         "SUBID1086",
         "Banita",
         "Rao",
         "Thakur",
         "1979-01-28",
         "Male",
         "+91 4743834161",
         "India",
         "Ghaziabad",
         907613,
         "S109",
         "N",
         "1999-01-28",
         "2000-09-05"
        ],
        [
         "SUBID10088",
         "NA",
         "Rajput",
         "Dua Zila",
         "1922-07-30",
         "Female",
         "+91 9523946101",
         "India",
         "Tadipatri",
         743449,
         "S110",
         "N",
         "1942-07-30",
         "1949-06-07"
        ],
        [
         "SUBID10016",
         "Amritkala",
         "Srivastav",
         "Guha Path",
         "1933-11-20",
         "Female",
         "+91 0537157280",
         "India",
         "Meerut",
         863467,
         "S106",
         "Y",
         "1953-11-20",
         "1955-07-29"
        ],
        [
         "SUBID10057",
         "Chittesh",
         "Pandey",
         "Mangal Chowk",
         "1949-10-17",
         "Male",
         "+91 1378163498",
         "India",
         "Thoothukudi",
         666415,
         "S109",
         "Y",
         "1969-10-17",
         "1975-10-08"
        ],
        [
         "SUBID1021",
         "Darsana",
         "Yadav",
         "Upadhyay Zila",
         "1932-05-29",
         "Male",
         "+91 7676311811",
         "India",
         "Dibrugarh",
         187414,
         "S109",
         "Y",
         "1952-05-29",
         "1953-10-14"
        ],
        [
         "SUBID10003",
         "Ballari",
         "Mishra",
         "Sahni Zila",
         "1969-09-25",
         "Female",
         "+91 0106026841",
         "India",
         "Bihar Sharif",
         91481,
         "S104",
         "N",
         "1989-09-25",
         "1995-06-05"
        ],
        [
         "SUBID10069",
         "Bhageeratha",
         "Srivastav",
         "Das Ganj",
         "1973-03-21",
         "Male",
         "+91 0590662722",
         "India",
         "Sonipat",
         695316,
         "S103",
         "Y",
         "1993-03-21",
         "1997-08-01"
        ],
        [
         "SUBID10084",
         "NA",
         "Thakur",
         "Raval Zila",
         "1924-06-07",
         "Female",
         "+91 7367059254",
         "India",
         "Bhavnagar",
         464111,
         "S107",
         "Y",
         "1944-06-07",
         "1952-05-22"
        ],
        [
         "SUBID10005",
         "Atasi",
         "Seth",
         "Khatri Nagar",
         "1967-10-02",
         "Male",
         "+91 9747336855",
         "India",
         "Amravati",
         229062,
         "S104",
         "Y",
         "1987-10-02",
         "1995-02-13"
        ],
        [
         "SUBID10077",
         "Girija",
         "Maurrya",
         "Iyengar Road",
         "1933-04-25",
         "Male",
         "+91 1811765039",
         "India",
         "Jaipur",
         204379,
         "S105",
         "N",
         "1953-04-25",
         "1963-04-18"
        ],
        [
         "SUBID10015",
         "Bhagvan",
         "Srivastav",
         "Edwin",
         "1966-07-24",
         "Female",
         "+91 0297693485",
         "India",
         "Bhimavaram",
         436513,
         "S105",
         "Y",
         "1986-07-24",
         "1988-02-04"
        ],
        [
         "SUBID10076",
         "Mamta",
         "Tiwari",
         "Batra",
         "1964-12-21",
         "Female",
         "+91 5559521919",
         "India",
         "Secunderabad",
         123181,
         "S104",
         "N",
         "1984-12-21",
         "1987-01-08"
        ],
        [
         "SUBID10019",
         "NA",
         "Maurya",
         "Sharaf Nagar",
         "1924-11-09",
         "Female",
         "+91 8906694405",
         "India",
         "Jabalpur",
         958538,
         "S104",
         "N",
         "1944-11-09",
         "1951-10-14"
        ],
        [
         "SUBID1091",
         "NA",
         "Thakur",
         "Bala",
         "1930-12-31",
         "Male",
         "+91 9664169480",
         "India",
         "Kamarhati",
         682652,
         "S110",
         "Y",
         "1950-12-31",
         "1958-06-21"
        ],
        [
         "SUBID10090",
         "NA",
         "Mishra",
         "Chandran Nagar",
         "1938-06-07",
         "Female",
         "+91 6869721169",
         "India",
         "Sikar",
         564747,
         "S101",
         "Y",
         "1958-06-07",
         "1967-08-23"
        ],
        [
         "SUBID10022",
         "Prakash",
         "Rao",
         "Sachar",
         "1923-09-15",
         "Female",
         "+91 9268324471",
         "India",
         "Kottayam",
         180680,
         "NA",
         "N",
         "1943-09-15",
         "1948-10-19"
        ],
        [
         "SUBID10039",
         "Madhubala",
         "Yadav",
         "Sangha Marg",
         "1937-01-11",
         "Male",
         "+91 8498685882",
         "India",
         "Jaunpur",
         624102,
         "S104",
         "Y",
         "1957-01-11",
         "1965-10-09"
        ],
        [
         "SUBID10055",
         "Madhu",
         "Thakur",
         "Sule Marg",
         "1984-10-23",
         "Male",
         "+91 8367885507",
         "India",
         "Udaipur",
         565423,
         "S107",
         "N",
         "2004-10-23",
         "2008-07-10"
        ],
        [
         "SUBID10080",
         "Tej",
         "Sonkar",
         "Sarraf Chowk",
         "1942-06-11",
         "Male",
         "+91 3450311029",
         "India",
         "Haridwar",
         506221,
         "S105",
         "Y",
         "1962-06-11",
         "1964-10-14"
        ],
        [
         "SUBID1098",
         "Pushkar",
         "Kumar",
         "Sodhi Zila",
         "1934-10-05",
         "Others",
         "+91 8956368286",
         "India",
         "Korba",
         910732,
         "S107",
         "Y",
         "1954-10-05",
         "1961-04-05"
        ],
        [
         "SUBID1032",
         "NA",
         "Seth",
         "Sandhu Chowk",
         "1968-07-02",
         "Female",
         "+91 2599794460",
         "India",
         "Gwalior",
         611826,
         "S110",
         "N",
         "1988-07-02",
         "1991-03-14"
        ],
        [
         "SUBID10026",
         "Ekant",
         "Sonkar",
         "Walla Road",
         "1943-08-13",
         "Male",
         "+91 7686951174",
         "India",
         "Berhampore",
         948589,
         "S110",
         "Y",
         "1963-08-13",
         "1967-05-29"
        ],
        [
         "SUBID1062",
         "Lalit",
         "Mishra",
         "Comar Street",
         "1924-02-15",
         "Female",
         "+91 4647833992",
         "India",
         "Tinsukia",
         963770,
         "S103",
         "N",
         "1944-02-15",
         "1947-09-28"
        ],
        [
         "SUBID10095",
         "Ekaaksh",
         "Rai",
         "Bansal Ganj",
         "1933-12-02",
         "Others",
         "NA",
         "India",
         "Pimpri-Chinchwad",
         158186,
         "S107",
         "N",
         "1953-12-02",
         "1960-07-29"
        ],
        [
         "SUBID10097",
         "NA",
         "Sonkar",
         "Rana Ganj",
         "1940-02-04",
         "Others",
         "+91 8908240160",
         "India",
         "Mira-Bhayandar",
         896586,
         "S107",
         "Y",
         "1960-02-04",
         "1965-01-12"
        ],
        [
         "SUBID10027",
         "Chancharik",
         "Pandey",
         "Karan Ganj",
         "1983-09-05",
         "Male",
         "+91 5309364825",
         "India",
         "Chapra",
         154667,
         "S109",
         "N",
         "2003-09-05",
         "2011-06-12"
        ],
        [
         "SUBID10001",
         "Brahmdev",
         "Sonkar",
         "Lala Marg",
         "1948-12-20",
         "Female",
         "+91 1727749552",
         "India",
         "Tiruvottiyur",
         34639,
         "S105",
         "Y",
         "1968-12-20",
         "1970-05-16"
        ],
        [
         "SUBID10042",
         "Chakrika",
         "Sonkar",
         "Bansal Circle",
         "1964-08-05",
         "Male",
         "+91 8185162879",
         "India",
         "Ranchi",
         503290,
         "S108",
         "Y",
         "1984-08-05",
         "1992-09-09"
        ],
        [
         "SUBID10008",
         "Gurudas",
         "Gupta",
         "Sarin Nagar",
         "1945-05-06",
         "Male",
         "+91 1232859381",
         "India",
         "Kamarhati",
         933226,
         "S103",
         "Y",
         "1965-05-06",
         "1970-09-16"
        ],
        [
         "SUBID10004",
         "Devnath",
         "Srivastav",
         "Magar Zila",
         "1946-05-01",
         "Female",
         "+91 1868774631",
         "India",
         "Bidhannagar",
         531742,
         "S110",
         "N",
         "1966-05-01",
         "1970-12-09"
        ],
        [
         "SUBID1006",
         "Manish",
         "Maurya",
         "Swaminathan Chowk",
         "1967-06-06",
         "Male",
         "+91 4354294043",
         "India",
         "Panvel",
         438733,
         "S109",
         "NA",
         "1987-06-06",
         "1995-03-21"
        ],
        [
         "SUBID10072",
         "Gopal",
         "Srivastav",
         "Desai Street",
         "1936-03-11",
         "Female",
         "+91 3791210190",
         "India",
         "Bidhannagar",
         761800,
         "S103",
         "Y",
         "1956-03-11",
         "1964-07-28"
        ],
        [
         "SUBID10029",
         "Swati",
         "Seth",
         "Kant Marg",
         "1987-12-11",
         "Female",
         "+91 1028477510",
         "India",
         "Amravati",
         932221,
         "S102",
         "N",
         "2007-12-11",
         "2011-10-17"
        ],
        [
         "SUBID10068",
         "NA",
         "Mishra",
         "Bath Nagar",
         "1927-02-26",
         "Female",
         "+91 4984346995",
         "India",
         "Ambarnath",
         766224,
         "S110",
         "N",
         "1947-02-26",
         "1948-03-30"
        ],
        [
         "SUBID10066",
         "NA",
         "Seth",
         "Chaudhuri Marg",
         "1930-09-01",
         "Male",
         "+91 7061843400",
         "India",
         "Kolhapur",
         597470,
         "S102",
         "N",
         "1950-09-01",
         "1957-12-01"
        ],
        [
         "SUBID10024",
         "Menakshi",
         "Seth",
         "Wable Street",
         "1987-03-06",
         "Male",
         "+91 0531676556",
         "India",
         "Kamarhati",
         882577,
         "S107",
         "N",
         "2007-03-06",
         "2014-02-25"
        ],
        [
         "SUBID10074",
         "NA",
         "Singh",
         "Kalla Path",
         "1963-11-21",
         "Male",
         "+91 7881749363",
         "India",
         "Bokaro",
         866319,
         "S105",
         "Y",
         "1983-11-21",
         "1985-09-29"
        ],
        [
         "SUBID1037",
         "NA",
         "Rajput",
         "Shere Chowk",
         "1948-11-10",
         "Male",
         "+91 8390195092",
         "India",
         "Vadodara",
         877443,
         "S101",
         "Y",
         "1968-11-10",
         "1973-12-25"
        ],
        [
         "SUBID1058",
         "Nawal",
         "Rajput",
         "Deol Nagar",
         "1940-01-22",
         "Male",
         "+91 1885105576",
         "India",
         "Bhopal",
         791168,
         "S106",
         "N",
         "1960-01-22",
         "1969-04-18"
        ],
        [
         "SUBID1038",
         "NA",
         "Thakur",
         "Rastogi Street",
         "1955-04-07",
         "Female",
         "+91 7434031446",
         "India",
         "Vijayawada",
         438940,
         "S104",
         "NA",
         "1975-04-07",
         "1982-01-25"
        ],
        [
         "SUBID10099",
         "Shikha",
         "Srivastav",
         "Ahuja Road",
         "1970-09-06",
         "Others",
         "+91 3042509956",
         "India",
         "Nanded",
         101500,
         "S109",
         "Y",
         "1990-09-06",
         "1997-11-27"
        ],
        [
         "SUBID10078",
         "Aaraadhana",
         "Rao",
         "Raval Nagar",
         "1980-02-07",
         "Male",
         "+91 2432610572",
         "India",
         "Jhansi",
         429941,
         "S108",
         "N",
         "2000-02-07",
         "2005-02-06"
        ],
        [
         "SUBID10050",
         "Deependu",
         "Gupta",
         "Banik Ganj",
         "1952-02-13",
         "Female",
         "+91 5674176644",
         "India",
         "Bareilly",
         417855,
         "S102",
         "Y",
         "1972-02-13",
         "1976-08-23"
        ],
        [
         "SUBID1036",
         "Upasana",
         "Thakur",
         "Vasa Ganj",
         "1927-10-03",
         "Female",
         "NA",
         "India",
         "Ratlam",
         326733,
         "S108",
         "N",
         "1947-10-03",
         "1951-02-20"
        ],
        [
         "SUBID10059",
         "Gajabahu",
         "Singh",
         "Kara",
         "1959-03-15",
         "Male",
         "+91 1207869436",
         "India",
         "Udupi",
         637221,
         "S101",
         "Y",
         "1979-03-15",
         "1986-07-05"
        ],
        [
         "SUBID1067",
         "Kishan",
         "Rao",
         "Badal Nagar",
         "1923-05-12",
         "Male",
         "+91 9067652693",
         "India",
         "Srikakulam",
         703899,
         "S110",
         "Y",
         "1943-05-12",
         "1946-09-20"
        ],
        [
         "SUBID10040",
         "Anjushree",
         "Pandey",
         "Vora Ganj",
         "1976-07-04",
         "Male",
         "+91 5322869455",
         "India",
         "Ghaziabad",
         782221,
         "S105",
         "N",
         "1996-07-04",
         "1999-02-17"
        ],
        [
         "SUBID10007",
         "Aakar",
         "Yadav",
         "Swamy",
         "1925-03-05",
         "Female",
         "+91 2777633911",
         "India",
         "Bihar Sharif",
         535907,
         "S104",
         "N",
         "1945-03-05",
         "1946-11-07"
        ],
        [
         "SUBID1047",
         "NA",
         "Rai",
         "Sagar Chowk",
         "1931-02-04",
         "Male",
         "+91 2973105946",
         "India",
         "Shivpuri",
         794170,
         "S109",
         "Y",
         "1951-02-04",
         "1955-07-14"
        ]
       ],
       "datasetInfos": [],
       "dbfsResultPath": null,
       "isJsonSchema": true,
       "metadata": {},
       "overflow": false,
       "plotOptions": {
        "customPlotOptions": {},
        "displayType": "table",
        "pivotAggregation": null,
        "pivotColumns": null,
        "xColumns": null,
        "yColumns": null
       },
       "removedWidgets": [],
       "schema": [
        {
         "metadata": "{}",
         "name": "sub _id",
         "type": "\"string\""
        },
        {
         "metadata": "{}",
         "name": "first_name",
         "type": "\"string\""
        },
        {
         "metadata": "{}",
         "name": "last_name",
         "type": "\"string\""
        },
        {
         "metadata": "{}",
         "name": "Street",
         "type": "\"string\""
        },
        {
         "metadata": "{\"__detected_date_formats\":\"yyyy-M-d\"}",
         "name": "Birth_date",
         "type": "\"date\""
        },
        {
         "metadata": "{}",
         "name": "Gender",
         "type": "\"string\""
        },
        {
         "metadata": "{}",
         "name": "Phone",
         "type": "\"string\""
        },
        {
         "metadata": "{}",
         "name": "Country",
         "type": "\"string\""
        },
        {
         "metadata": "{}",
         "name": "City",
         "type": "\"string\""
        },
        {
         "metadata": "{}",
         "name": "Zip Code",
         "type": "\"integer\""
        },
        {
         "metadata": "{}",
         "name": "Subgrp_id",
         "type": "\"string\""
        },
        {
         "metadata": "{}",
         "name": "Elig_ind",
         "type": "\"string\""
        },
        {
         "metadata": "{\"__detected_date_formats\":\"yyyy-M-d\"}",
         "name": "eff_date",
         "type": "\"date\""
        },
        {
         "metadata": "{\"__detected_date_formats\":\"yyyy-M-d\"}",
         "name": "term_date",
         "type": "\"date\""
        }
       ],
       "type": "table"
      }
     },
     "output_type": "display_data"
    }
   ],
   "source": [
    "from pyspark.sql.functions import col, expr\n",
    "\n",
    "# Check the column names in the DataFrame\n",
    "display(subscriber_cleaned_df)\n",
    "subscribers_under_30 = subscriber_cleaned_df.filter(col(\"Birth_date\") < expr(\"date '1990-01-01'\"))\n",
    "display(subscribers_under_30)"
   ]
  },
  {
   "cell_type": "markdown",
   "metadata": {
    "application/vnd.databricks.v1+cell": {
     "cellMetadata": {},
     "inputWidgets": {},
     "nuid": "068d48d2-1b55-4dc6-8bdf-50b142a96b72",
     "showTitle": false,
     "title": ""
    }
   },
   "source": [
    "Group with the most subgroups"
   ]
  },
  {
   "cell_type": "code",
   "execution_count": 0,
   "metadata": {
    "application/vnd.databricks.v1+cell": {
     "cellMetadata": {
      "byteLimit": 2048000,
      "rowLimit": 10000
     },
     "inputWidgets": {},
     "nuid": "4ad7836b-1a18-4708-860f-2a22dd5cc2ed",
     "showTitle": false,
     "title": ""
    }
   },
   "outputs": [
    {
     "output_type": "display_data",
     "data": {
      "image/png": "[encoded data removed]",
      "text/plain": [
       "<Figure size 1200x600 with 1 Axes>"
      ]
     },
     "metadata": {},
     "output_type": "display_data"
    },
    {
     "output_type": "stream",
     "name": "stdout",
     "output_type": "stream",
     "text": [
      "Group with maximum subgroups: Grp_Id    GRP147\ncount          2\nName: 0, dtype: object\n"
     ]
    }
   ],
   "source": [
    "top_groups = grpsubgrp_cleaned_df.groupBy(\"Grp_Id\").count().orderBy(\"count\", ascending=False).limit(10)\n",
    "\n",
    "top_groups_pd = top_groups.toPandas()\n",
    "\n",
    "plt.figure(figsize=(12, 6))\n",
    "sns.barplot(x='count', y='Grp_Id', data=top_groups_pd, palette='viridis')\n",
    "plt.title('Top 10 Groups with the Most Subgroups')\n",
    "plt.xlabel('Number of Subgroups')\n",
    "plt.ylabel('Group ID')\n",
    "plt.show()\n",
    "max_subgroups_group = top_groups_pd.iloc[0]\n",
    "print(\"Group with maximum subgroups:\", max_subgroups_group)"
   ]
  },
  {
   "cell_type": "markdown",
   "metadata": {
    "application/vnd.databricks.v1+cell": {
     "cellMetadata": {},
     "inputWidgets": {},
     "nuid": "f73bd01b-0515-4a1c-9209-53e22a536828",
     "showTitle": false,
     "title": ""
    }
   },
   "source": [
    "Hospital serving most patients"
   ]
  },
  {
   "cell_type": "code",
   "execution_count": 0,
   "metadata": {
    "application/vnd.databricks.v1+cell": {
     "cellMetadata": {
      "byteLimit": 2048000,
      "rowLimit": 10000
     },
     "inputWidgets": {},
     "nuid": "be20c2e8-b26b-4a3e-b987-aa59d7f4cb41",
     "showTitle": false,
     "title": ""
    }
   },
   "outputs": [
    {
     "output_type": "stream",
     "name": "stdout",
     "output_type": "stream",
     "text": [
      "Hospital serving most patients: Row(claim_type='claims of value', count=25)\n"
     ]
    }
   ],
   "source": [
    "max_patients_hospital = claims_cleaned_df.groupBy(\"claim_type\").count().orderBy(\"count\", ascending=False).first()\n",
    "print(\"Hospital serving most patients:\", max_patients_hospital)\n"
   ]
  },
  {
   "cell_type": "markdown",
   "metadata": {
    "application/vnd.databricks.v1+cell": {
     "cellMetadata": {},
     "inputWidgets": {},
     "nuid": "d8358d59-fc09-4422-ae7a-58f7e799d908",
     "showTitle": false,
     "title": ""
    }
   },
   "source": [
    "Subgroup subscribed to the most"
   ]
  },
  {
   "cell_type": "code",
   "execution_count": 0,
   "metadata": {
    "application/vnd.databricks.v1+cell": {
     "cellMetadata": {
      "byteLimit": 2048000,
      "rowLimit": 10000
     },
     "inputWidgets": {},
     "nuid": "1eda16c8-16a0-4240-be8b-93f9e3aa0dd1",
     "showTitle": false,
     "title": ""
    }
   },
   "outputs": [
    {
     "output_type": "stream",
     "name": "stdout",
     "output_type": "stream",
     "text": [
      "Subgroup subscribed to the most: Row(SubGrp_ID='S106', count=5)\n"
     ]
    }
   ],
   "source": [
    "max_subscribed_subgroup = grpsubgrp_cleaned_df.groupBy(\"SubGrp_ID\").count().orderBy(\"count\", ascending=False).first()\n",
    "print(\"Subgroup subscribed to the most:\", max_subscribed_subgroup)"
   ]
  },
  {
   "cell_type": "markdown",
   "metadata": {
    "application/vnd.databricks.v1+cell": {
     "cellMetadata": {},
     "inputWidgets": {},
     "nuid": "2d5f56d7-a8bc-4b50-a30d-0a57e601990e",
     "showTitle": false,
     "title": ""
    }
   },
   "source": [
    "Find out total number of claims which were rejected"
   ]
  },
  {
   "cell_type": "code",
   "execution_count": 0,
   "metadata": {
    "application/vnd.databricks.v1+cell": {
     "cellMetadata": {
      "byteLimit": 2048000,
      "rowLimit": 10000
     },
     "inputWidgets": {},
     "nuid": "64f205d6-87c0-49c0-a5fc-424834511e83",
     "showTitle": false,
     "title": ""
    }
   },
   "outputs": [
    {
     "output_type": "stream",
     "name": "stdout",
     "output_type": "stream",
     "text": [
      "Total number of rejected claims: 22\n"
     ]
    }
   ],
   "source": [
    "rejected_claims = claims_df.filter(claims_df['Claim_Or_Rejected'] == 'N').count()\n",
    "print(f\"Total number of rejected claims: {rejected_claims}\")"
   ]
  },
  {
   "cell_type": "markdown",
   "metadata": {
    "application/vnd.databricks.v1+cell": {
     "cellMetadata": {},
     "inputWidgets": {},
     "nuid": "50982a6d-80ac-419d-891d-b2126756914b",
     "showTitle": false,
     "title": ""
    }
   },
   "source": [
    "●\tFrom where most claims are coming (city)"
   ]
  },
  {
   "cell_type": "code",
   "execution_count": 0,
   "metadata": {
    "application/vnd.databricks.v1+cell": {
     "cellMetadata": {
      "byteLimit": 2048000,
      "rowLimit": 10000
     },
     "inputWidgets": {},
     "nuid": "a41e4a31-3849-4506-993f-ea82b338b98b",
     "showTitle": false,
     "title": ""
    }
   },
   "outputs": [
    {
     "output_type": "stream",
     "name": "stdout",
     "output_type": "stream",
     "text": [
      "City with most claims: Mysore with 2 claims\n"
     ]
    }
   ],
   "source": [
    "most_claims_city = patient_records_cleaned_df.groupBy('city').count().orderBy('count', ascending=False).first()\n",
    "print(f\"City with most claims: {most_claims_city['city']} with {most_claims_city['count']} claims\")\n"
   ]
  },
  {
   "cell_type": "markdown",
   "metadata": {
    "application/vnd.databricks.v1+cell": {
     "cellMetadata": {},
     "inputWidgets": {},
     "nuid": "4af3c26c-0d92-455e-85e1-50c3c603bfbf",
     "showTitle": false,
     "title": ""
    }
   },
   "source": [
    "Which groups of policies subscriber subscribe mostly Government or private"
   ]
  },
  {
   "cell_type": "code",
   "execution_count": 0,
   "metadata": {
    "application/vnd.databricks.v1+cell": {
     "cellMetadata": {
      "byteLimit": 2048000,
      "rowLimit": 10000
     },
     "inputWidgets": {},
     "nuid": "0ebb4fbc-445a-4917-87eb-1ad862dd20de",
     "showTitle": false,
     "title": ""
    }
   },
   "outputs": [
    {
     "output_type": "display_data",
     "data": {
      "image/png": "[encoded data removed]",
      "text/plain": [
       "<Figure size 1000x600 with 1 Axes>"
      ]
     },
     "metadata": {},
     "output_type": "display_data"
    },
    {
     "output_type": "stream",
     "name": "stdout",
     "output_type": "stream",
     "text": [
      "Most subscribed policy group: Private with 51 subscriptions\n"
     ]
    }
   ],
   "source": [
    "group_subscribe_counts = group_cleaned_df.groupBy('Grp_Type').count().orderBy('count', ascending=False)\n",
    "\n",
    "group_subscribe_counts_pd = group_subscribe_counts.toPandas()\n",
    "\n",
    "# Plotting\n",
    "plt.figure(figsize=(10, 6))\n",
    "sns.barplot(x='Grp_Type', y='count', data=group_subscribe_counts_pd, palette='viridis')\n",
    "plt.title('Number of Subscriptions by Policy Group')\n",
    "plt.xlabel('Policy Group Type')\n",
    "plt.ylabel('Number of Subscriptions')\n",
    "plt.xticks(rotation=45)\n",
    "plt.show()\n",
    "\n",
    "most_subscribed_group = group_subscribe_counts_pd.iloc[0]\n",
    "print(f\"Most subscribed policy group: {most_subscribed_group['Grp_Type']} with {most_subscribed_group['count']} subscriptions\")\n"
   ]
  },
  {
   "cell_type": "markdown",
   "metadata": {
    "application/vnd.databricks.v1+cell": {
     "cellMetadata": {},
     "inputWidgets": {},
     "nuid": "50b37c12-46eb-4101-82ec-3ef589ede173",
     "showTitle": false,
     "title": ""
    }
   },
   "source": [
    "Average monthly premium subscriber pay to insurance company."
   ]
  },
  {
   "cell_type": "code",
   "execution_count": 0,
   "metadata": {
    "application/vnd.databricks.v1+cell": {
     "cellMetadata": {
      "byteLimit": 2048000,
      "rowLimit": 10000
     },
     "inputWidgets": {},
     "nuid": "62a1bb5b-1251-45cf-8135-301bfd94d732",
     "showTitle": false,
     "title": ""
    }
   },
   "outputs": [
    {
     "output_type": "stream",
     "name": "stdout",
     "output_type": "stream",
     "text": [
      "Average monthly premium: 63586.206896551725\n"
     ]
    }
   ],
   "source": [
    "average_monthly_premium = group_cleaned_df.agg({'premium_written': 'avg'}).first()\n",
    "print(f\"Average monthly premium: {average_monthly_premium['avg(premium_written)']}\")\n"
   ]
  },
  {
   "cell_type": "markdown",
   "metadata": {
    "application/vnd.databricks.v1+cell": {
     "cellMetadata": {},
     "inputWidgets": {},
     "nuid": "0a9a9271-db19-40f3-98b7-9338e2e559e6",
     "showTitle": false,
     "title": ""
    }
   },
   "source": [
    "Find out Which group is most profitable"
   ]
  },
  {
   "cell_type": "code",
   "execution_count": 0,
   "metadata": {
    "application/vnd.databricks.v1+cell": {
     "cellMetadata": {
      "byteLimit": 2048000,
      "rowLimit": 10000
     },
     "inputWidgets": {},
     "nuid": "0cd4f84e-6426-42b3-a661-0fd700cfdf08",
     "showTitle": false,
     "title": ""
    }
   },
   "outputs": [
    {
     "output_type": "display_data",
     "data": {
      "image/png": "[encoded data removed]",
      "text/plain": [
       "<Figure size 1000x600 with 1 Axes>"
      ]
     },
     "metadata": {},
     "output_type": "display_data"
    },
    {
     "output_type": "stream",
     "name": "stdout",
     "output_type": "stream",
     "text": [
      "Most profitable group: GRP131 with total premium 99000\n"
     ]
    }
   ],
   "source": [
    "profitable_group_df = group_cleaned_df.groupBy('Grp_Id').agg({'premium_written': 'sum'}).orderBy('sum(premium_written)', ascending=False)\n",
    "\n",
    "profitable_group_pd = profitable_group_df.toPandas()\n",
    "\n",
    "plt.figure(figsize=(10, 6))\n",
    "sns.barplot(x='Grp_Id', y='sum(premium_written)', data=profitable_group_pd, palette='viridis')\n",
    "plt.title('Total Premium Written by Group')\n",
    "plt.xlabel('Group ID')\n",
    "plt.ylabel('Total Premium Written')\n",
    "plt.xticks(rotation=45)\n",
    "plt.show()\n",
    "\n",
    "most_profitable_group = profitable_group_pd.iloc[0]\n",
    "print(f\"Most profitable group: {most_profitable_group['Grp_Id']} with total premium {most_profitable_group['sum(premium_written)']}\")\n"
   ]
  }
 ],
 "metadata": {
  "application/vnd.databricks.v1+notebook": {
   "dashboards": [],
   "environmentMetadata": null,
   "language": "python",
   "notebookMetadata": {
    "mostRecentlyExecutedCommandWithImplicitDF": {
     "commandId": -1,
     "dataframes": [
      "_sqldf"
     ]
    },
    "pythonIndentUnit": 4
   },
   "notebookName": "Untitled Notebook 2024-07-05 20:37:07",
   "widgets": {}
  }
 },
 "nbformat": 4,
 "nbformat_minor": 0
}
